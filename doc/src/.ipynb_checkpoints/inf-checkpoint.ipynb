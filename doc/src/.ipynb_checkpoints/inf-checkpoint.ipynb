{
 "cells": [
  {
   "cell_type": "markdown",
   "metadata": {},
   "source": [
    "<!-- dom:TITLE: Infinite matter, from the electron gas to nuclear matter -->\n",
    "# Infinite matter, from the electron gas to nuclear matter\n",
    "<!-- dom:AUTHOR: [Morten Hjorth-Jensen](http://computationalphysics.no), National Superconducting Cyclotron Laboratory and Department of Physics and Astronomy, Michigan State University, East Lansing, MI 48824, USA & Department of Physics, University of Oslo, Oslo, Norway -->\n",
    "<!-- Author: -->  \n",
    "**[Morten Hjorth-Jensen](http://computationalphysics.no), National Superconducting Cyclotron Laboratory and Department of Physics and Astronomy, Michigan State University, East Lansing, MI 48824, USA & Department of Physics, University of Oslo, Oslo, Norway**\n",
    "\n",
    "Date: **July 2015**\n",
    "\n",
    "## Introduction to studies of infinite matter\n",
    "\n",
    "\n",
    "Studies of infinite nuclear matter play an important role  in nuclear physics. The aim of this part of the lectures is to provide the necessary ingredients for perfoming studies of neutron star matter (or matter in $\\beta$-equilibrium) and symmetric nuclear matter. We start however with the electron gas in two and three dimensions for both historical and pedagogical reasons. Since there are several benchmark calculations for the electron gas, this small detour will allow us to establish the necessary formalism. Thereafter we will study infinite nuclear matter \n",
    "* at the Hartree-Fock with realistic nuclear forces and\n",
    "\n",
    "* using many-body methods like coupled-cluster theory or in-medium SRG as discussed in our previous sections.\n",
    "\n",
    "## The infinite electron gas\n",
    "\n",
    "The electron gas is perhaps the only realistic model of a \n",
    "system of many interacting particles that allows for a solution\n",
    "of the Hartree-Fock equations on a closed form. Furthermore, to first order in the interaction, one can also\n",
    "compute on a closed form the total energy and several other properties of a many-particle systems. \n",
    "The model gives a very good approximation to the properties of valence electrons in metals.\n",
    "The assumptions are\n",
    "\n",
    " * System of electrons that is not influenced by external forces except by an attraction provided by a uniform background of ions. These ions give rise to a uniform background charge. The ions are stationary.\n",
    "\n",
    " * The system as a whole is neutral.\n",
    "\n",
    " * We assume we have $N_e$ electrons in a cubic box of length $L$ and volume $\\Omega=L^3$. This volume contains also a uniform distribution of positive charge with density $N_ee/\\Omega$. \n",
    "\n",
    "The homogeneous electron gas is one of the few examples of a system of many\n",
    "interacting particles that allows for a solution of the mean-field\n",
    "Hartree-Fock equations on a closed form.  To first order in the\n",
    "electron-electron interaction, this applies to ground state properties\n",
    "like the energy and its pertinent equation of state as well.  The\n",
    "homogeneus electron gas is a system of electrons that is not\n",
    "influenced by external forces except by an attraction provided by a\n",
    "uniform background of ions. These ions give rise to a uniform\n",
    "background charge.  The ions are stationary and the system as a whole\n",
    "is neutral.\n",
    "Irrespective of this simplicity, this system, in both two and\n",
    "three-dimensions, has eluded a proper description of correlations in\n",
    "terms of various first principle methods, except perhaps for quantum\n",
    "Monte Carlo methods. In particular, the diffusion Monte Carlo\n",
    "calculations of [Ceperley](http://journals.aps.org/prl/abstract/10.1103/PhysRevLett.45.566) \n",
    "and [Ceperley and Tanatar](http://journals.aps.org/prb/abstract/10.1103/PhysRevB.39.5005) \n",
    "are presently still considered as the\n",
    "best possible benchmarks for the two- and three-dimensional electron\n",
    "gas. \n",
    "\n",
    "\n",
    "\n",
    "The electron gas, in \n",
    "two or three dimensions is thus interesting as a test-bed for \n",
    "electron-electron correlations. The three-dimensional \n",
    "electron gas is particularly important as a cornerstone \n",
    "of the local-density approximation in density-functional \n",
    "theory. In the physical world, systems \n",
    "similar to the three-dimensional electron gas can be \n",
    "found in, for example, alkali metals and doped \n",
    "semiconductors. Two-dimensional electron fluids are \n",
    "observed on metal and liquid-helium surfaces, as well as \n",
    "at metal-oxide-semiconductor interfaces. However, the Coulomb \n",
    "interaction has an infinite range, and therefore \n",
    "long-range correlations play an essential role in the\n",
    "electron gas. \n",
    "\n",
    "\n",
    "\n",
    "\n",
    "At low densities, the electrons become \n",
    "localized and form a lattice. This so-called Wigner \n",
    "crystallization is a direct consequence \n",
    "of the long-ranged repulsive interaction. At higher\n",
    "densities, the electron gas is better described as a\n",
    "liquid.\n",
    "When using, for example, Monte Carlo methods the electron gas must be approximated \n",
    "by a finite system. The long-range Coulomb interaction \n",
    "in the electron gas causes additional finite-size effects  that are not\n",
    "present in other infinite systems like nuclear matter or neutron star matter.\n",
    "This poses additional challenges to many-body methods when applied \n",
    "to the electron gas.\n",
    "\n",
    "\n",
    "\n",
    "\n",
    "\n",
    "## The infinite electron gas as a homogenous system\n",
    "\n",
    "This is a homogeneous system and the one-particle wave functions are given by plane wave functions normalized to a volume $\\Omega$ \n",
    "for a box with length $L$ (the limit $L\\rightarrow \\infty$ is to be taken after we have computed various expectation values)"
   ]
  },
  {
   "cell_type": "markdown",
   "metadata": {},
   "source": [
    "$$\n",
    "\\psi_{\\mathbf{k}\\sigma}(\\mathbf{r})= \\frac{1}{\\sqrt{\\Omega}}\\exp{(i\\mathbf{kr})}\\xi_{\\sigma}\n",
    "$$"
   ]
  },
  {
   "cell_type": "markdown",
   "metadata": {},
   "source": [
    "where $\\mathbf{k}$ is the wave number and  $\\xi_{\\sigma}$ is a spin function for either spin up or down"
   ]
  },
  {
   "cell_type": "markdown",
   "metadata": {},
   "source": [
    "$$\n",
    "\\xi_{\\sigma=+1/2}=\\left(\\begin{array}{c} 1 \\\\ 0 \\end{array}\\right) \\hspace{0.5cm}\n",
    "\\xi_{\\sigma=-1/2}=\\left(\\begin{array}{c} 0 \\\\ 1 \\end{array}\\right).\n",
    "$$"
   ]
  },
  {
   "cell_type": "markdown",
   "metadata": {},
   "source": [
    "## Periodic boundary conditions\n",
    "\n",
    "\n",
    "We assume that we have periodic boundary conditions which limit the allowed wave numbers to"
   ]
  },
  {
   "cell_type": "markdown",
   "metadata": {},
   "source": [
    "$$\n",
    "k_i=\\frac{2\\pi n_i}{L}\\hspace{0.5cm} i=x,y,z \\hspace{0.5cm} n_i=0,\\pm 1,\\pm 2, \\dots\n",
    "$$"
   ]
  },
  {
   "cell_type": "markdown",
   "metadata": {},
   "source": [
    "We assume first that the electrons interact via a central, symmetric and translationally invariant\n",
    "interaction  $V(r_{12})$ with\n",
    "$r_{12}=|\\mathbf{r}_1-\\mathbf{r}_2|$.  The interaction is spin independent.\n",
    "\n",
    "The total Hamiltonian consists then of kinetic and potential energy"
   ]
  },
  {
   "cell_type": "markdown",
   "metadata": {},
   "source": [
    "$$\n",
    "\\hat{H} = \\hat{T}+\\hat{V}.\n",
    "$$"
   ]
  },
  {
   "cell_type": "markdown",
   "metadata": {},
   "source": [
    "The operator for the kinetic energy can be written as"
   ]
  },
  {
   "cell_type": "markdown",
   "metadata": {},
   "source": [
    "$$\n",
    "\\hat{T}=\\sum_{\\mathbf{k}\\sigma}\\frac{\\hbar^2k^2}{2m}a_{\\mathbf{k}\\sigma}^{\\dagger}a_{\\mathbf{k}\\sigma}.\n",
    "$$"
   ]
  },
  {
   "cell_type": "markdown",
   "metadata": {},
   "source": [
    "## Defining the Hamiltonian operator\n",
    "\n",
    "The Hamiltonian operator is given by"
   ]
  },
  {
   "cell_type": "markdown",
   "metadata": {},
   "source": [
    "$$\n",
    "\\hat{H}=\\hat{H}_{el}+\\hat{H}_{b}+\\hat{H}_{el-b},\n",
    "$$"
   ]
  },
  {
   "cell_type": "markdown",
   "metadata": {},
   "source": [
    "with the electronic part"
   ]
  },
  {
   "cell_type": "markdown",
   "metadata": {},
   "source": [
    "$$\n",
    "\\hat{H}_{el}=\\sum_{i=1}^N\\frac{p_i^2}{2m}+\\frac{e^2}{2}\\sum_{i\\ne j}\\frac{e^{-\\mu |\\mathbf{r}_i-\\mathbf{r}_j|}}{|\\mathbf{r}_i-\\mathbf{r}_j|},\n",
    "$$"
   ]
  },
  {
   "cell_type": "markdown",
   "metadata": {},
   "source": [
    "where we have introduced an explicit convergence factor\n",
    "(the limit $\\mu\\rightarrow 0$ is performed after having calculated the various integrals).\n",
    "Correspondingly, we have"
   ]
  },
  {
   "cell_type": "markdown",
   "metadata": {},
   "source": [
    "$$\n",
    "\\hat{H}_{b}=\\frac{e^2}{2}\\int\\int d\\mathbf{r}d\\mathbf{r}'\\frac{n(\\mathbf{r})n(\\mathbf{r}')e^{-\\mu |\\mathbf{r}-\\mathbf{r}'|}}{|\\mathbf{r}-\\mathbf{r}'|},\n",
    "$$"
   ]
  },
  {
   "cell_type": "markdown",
   "metadata": {},
   "source": [
    "which is the energy contribution from the positive background charge with density\n",
    "$n(\\mathbf{r})=N/\\Omega$. Finally,"
   ]
  },
  {
   "cell_type": "markdown",
   "metadata": {},
   "source": [
    "$$\n",
    "\\hat{H}_{el-b}=-\\frac{e^2}{2}\\sum_{i=1}^N\\int d\\mathbf{r}\\frac{n(\\mathbf{r})e^{-\\mu |\\mathbf{r}-\\mathbf{x}_i|}}{|\\mathbf{r}-\\mathbf{x}_i|},\n",
    "$$"
   ]
  },
  {
   "cell_type": "markdown",
   "metadata": {},
   "source": [
    "is the interaction between the electrons and the positive background.\n",
    "\n",
    "\n",
    "\n",
    "## Single-particle Hartree-Fock energy\n",
    "\n",
    "In the first exercise below we show that the Hartree-Fock energy can be written as"
   ]
  },
  {
   "cell_type": "markdown",
   "metadata": {},
   "source": [
    "$$\n",
    "\\varepsilon_{k}^{HF}=\\frac{\\hbar^{2}k^{2}}{2m_e}-\\frac{e^{2}}\n",
    "{\\Omega^{2}}\\sum_{k'\\leq\n",
    "k_{F}}\\int d\\mathbf{r}e^{i(\\mathbf{k}'-\\mathbf{k})\\mathbf{r}}\\int\n",
    "d\\mathbf{r'}\\frac{e^{i(\\mathbf{k}-\\mathbf{k}')\\mathbf{r}'}}\n",
    "{\\vert\\mathbf{r}-\\mathbf{r}'\\vert}\n",
    "$$"
   ]
  },
  {
   "cell_type": "markdown",
   "metadata": {},
   "source": [
    "resulting in"
   ]
  },
  {
   "cell_type": "markdown",
   "metadata": {},
   "source": [
    "$$\n",
    "\\varepsilon_{k}^{HF}=\\frac{\\hbar^{2}k^{2}}{2m_e}-\\frac{e^{2}\n",
    "k_{F}}{2\\pi}\n",
    "\\left[\n",
    "2+\\frac{k_{F}^{2}-k^{2}}{kk_{F}}ln\\left\\vert\\frac{k+k_{F}}\n",
    "{k-k_{F}}\\right\\vert\n",
    "\\right]\n",
    "$$"
   ]
  },
  {
   "cell_type": "markdown",
   "metadata": {},
   "source": [
    "The previous result can be rewritten in terms of the density"
   ]
  },
  {
   "cell_type": "markdown",
   "metadata": {},
   "source": [
    "$$\n",
    "n= \\frac{k_F^3}{3\\pi^2}=\\frac{3}{4\\pi r_s^3},\n",
    "$$"
   ]
  },
  {
   "cell_type": "markdown",
   "metadata": {},
   "source": [
    "where $n=N_e/\\Omega$, $N_e$ being the number of electrons, and $r_s$ is the radius of a sphere which represents the volum per conducting electron.  \n",
    "It can be convenient to use the Bohr radius $a_0=\\hbar^2/e^2m_e$.\n",
    "For most metals we have a relation $r_s/a_0\\sim 2-6$.  The quantity $r_s$ is dimensionless.\n",
    "\n",
    "\n",
    "In the second exercise below  we find that\n",
    "the total energy\n",
    "$E_0/N_e=\\langle\\Phi_{0}|\\hat{H}|\\Phi_{0}\\rangle/N_e$ for\n",
    "for this system to first order in the interaction is given as"
   ]
  },
  {
   "cell_type": "markdown",
   "metadata": {},
   "source": [
    "$$\n",
    "E_0/N_e=\\frac{e^2}{2a_0}\\left[\\frac{2.21}{r_s^2}-\\frac{0.916}{r_s}\\right].\n",
    "$$"
   ]
  },
  {
   "cell_type": "markdown",
   "metadata": {},
   "source": [
    "<!-- --- begin exercise --- -->\n",
    "\n",
    "## Exercise 1: Hartree-Fock single-particle solution for the electron gas\n",
    "\n",
    "The electron gas model allows closed form solutions for quantities like the \n",
    "single-particle Hartree-Fock energy.  The latter quantity is given by the following expression"
   ]
  },
  {
   "cell_type": "markdown",
   "metadata": {},
   "source": [
    "$$\n",
    "\\varepsilon_{k}^{HF}=\\frac{\\hbar^{2}k^{2}}{2m}-\\frac{e^{2}}\n",
    "{V^{2}}\\sum_{k'\\leq\n",
    "k_{F}}\\int d\\mathbf{r}e^{i(\\mathbf{k'}-\\mathbf{k})\\mathbf{r}}\\int\n",
    "d\\mathbf{r}'\\frac{e^{i(\\mathbf{k}-\\mathbf{k'})\\mathbf{r}'}}\n",
    "{\\vert\\mathbf{r}-\\mathbf{r'}\\vert}\n",
    "$$"
   ]
  },
  {
   "cell_type": "markdown",
   "metadata": {},
   "source": [
    "**a)**\n",
    "Show first that"
   ]
  },
  {
   "cell_type": "markdown",
   "metadata": {},
   "source": [
    "$$\n",
    "\\varepsilon_{k}^{HF}=\\frac{\\hbar^{2}k^{2}}{2m}-\\frac{e^{2}\n",
    "k_{F}}{2\\pi}\n",
    "\\left[\n",
    "2+\\frac{k_{F}^{2}-k^{2}}{kk_{F}}ln\\left\\vert\\frac{k+k_{F}}\n",
    "{k-k_{F}}\\right\\vert\n",
    "\\right]\n",
    "$$"
   ]
  },
  {
   "cell_type": "markdown",
   "metadata": {},
   "source": [
    "<!-- --- begin hint in exercise --- -->\n",
    "\n",
    "**Hint.**\n",
    "Hint: Introduce the convergence factor \n",
    "$e^{-\\mu\\vert\\mathbf{r}-\\mathbf{r}'\\vert}$\n",
    "in the potential and use  $\\sum_{\\mathbf{k}}\\rightarrow\n",
    "\\frac{V}{(2\\pi)^{3}}\\int d\\mathbf{k}$\n",
    "\n",
    "<!-- --- end hint in exercise --- -->\n",
    "\n",
    "\n",
    "<!-- --- begin solution of exercise --- -->\n",
    "**Solution.**\n",
    "We want to show that, given the Hartree-Fock equation for the electron gas"
   ]
  },
  {
   "cell_type": "markdown",
   "metadata": {},
   "source": [
    "$$\n",
    "\\varepsilon_{k}^{HF}=\\frac{\\hbar^{2}k^{2}}{2m}-\\frac{e^{2}}\n",
    "{V^{2}}\\sum_{p\\leq\n",
    "k_{F}}\\int d\\mathbf{r}\\exp{(i(\\mathbf{p}-\\mathbf{k})\\mathbf{r})}\\int\n",
    "d\\mathbf{r}'\\frac{\\exp{(i(\\mathbf{k}-\\mathbf{p})\\mathbf{r}'})}\n",
    "{\\vert\\mathbf{r}-\\mathbf{r'}\\vert}\n",
    "$$"
   ]
  },
  {
   "cell_type": "markdown",
   "metadata": {},
   "source": [
    "the single-particle energy can be written as"
   ]
  },
  {
   "cell_type": "markdown",
   "metadata": {},
   "source": [
    "$$\n",
    "\\varepsilon_{k}^{HF}=\\frac{\\hbar^{2}k^{2}}{2m}-\\frac{e^{2}\n",
    "k_{F}}{2\\pi}\n",
    "\\left[\n",
    "2+\\frac{k_{F}^{2}-k^{2}}{kk_{F}}ln\\left\\vert\\frac{k+k_{F}}\n",
    "{k-k_{F}}\\right\\vert\n",
    "\\right].\n",
    "$$"
   ]
  },
  {
   "cell_type": "markdown",
   "metadata": {},
   "source": [
    "We introduce the convergence factor \n",
    "$e^{-\\mu\\vert\\mathbf{r}-\\mathbf{r}'\\vert}$\n",
    "in the potential and use  $\\sum_{\\mathbf{k}}\\rightarrow\n",
    "\\frac{V}{(2\\pi)^{3}}\\int d\\mathbf{k}$. We can then rewrite the integral as"
   ]
  },
  {
   "cell_type": "markdown",
   "metadata": {},
   "source": [
    "<!-- Equation labels as ordinary links -->\n",
    "<div id=\"_auto1\"></div>\n",
    "\n",
    "$$\n",
    "\\begin{equation}\n",
    "\\frac{e^{2}}\n",
    "{V^{2}}\\sum_{k'\\leq\n",
    "k_{F}}\\int d\\mathbf{r}\\exp{(i(\\mathbf{k'}-\\mathbf{k})\\mathbf{r})}\\int\n",
    "d\\mathbf{r}'\\frac{\\exp{(i(\\mathbf{k}-\\mathbf{p})\\mathbf{r}'})}\n",
    "{\\vert\\mathbf{r}-\\mathbf{r'}\\vert}=  \n",
    "\\label{_auto1} \\tag{1}\n",
    "\\end{equation}\n",
    "$$"
   ]
  },
  {
   "cell_type": "markdown",
   "metadata": {},
   "source": [
    "<!-- Equation labels as ordinary links -->\n",
    "<div id=\"_auto2\"></div>\n",
    "\n",
    "$$\n",
    "\\begin{equation} \n",
    "\\frac{e^{2}}{V (2\\pi)^3}  \\int d\\mathbf{r}\\int\n",
    "\\frac{d\\mathbf{r}'}{\\vert\\mathbf{r}-\\mathbf{r'}\\vert}\\exp{(-i\\mathbf{k}(\\mathbf{r}-\\mathbf{r}'))}\\int d\\mathbf{p}\\exp{(i\\mathbf{p}(\\mathbf{r}-\\mathbf{r}'))},\n",
    "\\label{_auto2} \\tag{2}\n",
    "\\end{equation}\n",
    "$$"
   ]
  },
  {
   "cell_type": "markdown",
   "metadata": {},
   "source": [
    "and introducing the abovementioned convergence factor we have"
   ]
  },
  {
   "cell_type": "markdown",
   "metadata": {},
   "source": [
    "<!-- Equation labels as ordinary links -->\n",
    "<div id=\"_auto3\"></div>\n",
    "\n",
    "$$\n",
    "\\begin{equation}\n",
    "\\lim_{\\mu \\to 0}\\frac{e^{2}}{V (2\\pi)^3}  \\int d\\mathbf{r}\\int d\\mathbf{r}'\\frac{\\exp{(-\\mu\\vert\\mathbf{r}-\\mathbf{r}'\\vert})}{\\vert\\mathbf{r}-\\mathbf{r'}\\vert}\\int d\\mathbf{p}\\exp{(i(\\mathbf{p}-\\mathbf{k})(\\mathbf{r}-\\mathbf{r}'))}.\n",
    "\\label{_auto3} \\tag{3}\n",
    "\\end{equation}\n",
    "$$"
   ]
  },
  {
   "cell_type": "markdown",
   "metadata": {},
   "source": [
    "With a change variables to $\\mathbf{x} = \\mathbf{r}-\\mathbf{r}'$ and $\\mathbf{y}=\\mathbf{r}'$ we rewrite the last integral as"
   ]
  },
  {
   "cell_type": "markdown",
   "metadata": {},
   "source": [
    "$$\n",
    "\\lim_{\\mu \\to 0}\\frac{e^{2}}{V (2\\pi)^3}  \\int d\\mathbf{p}\\int d\\mathbf{y}\\int d\\mathbf{x}\\exp{(i(\\mathbf{p}-\\mathbf{k})\\mathbf{x})}\\frac{\\exp{(-\\mu\\vert\\mathbf{x}\\vert})}{\\vert\\mathbf{x}\\vert}.\n",
    "$$"
   ]
  },
  {
   "cell_type": "markdown",
   "metadata": {},
   "source": [
    "The integration over $\\mathbf{x}$ can be performed using spherical coordinates, resulting in (with $x=\\vert \\mathbf{x}\\vert$)"
   ]
  },
  {
   "cell_type": "markdown",
   "metadata": {},
   "source": [
    "$$\n",
    "\\int d\\mathbf{x}\\exp{(i(\\mathbf{p}-\\mathbf{k})\\mathbf{x})}\\frac{\\exp{(-\\mu\\vert\\mathbf{x}\\vert})}{\\vert\\mathbf{x}\\vert}=\\int x^2 dx d\\phi d\\cos{(\\theta)}\\exp{(i(\\mathbf{p}-\\mathbf{k})x\\cos{(\\theta))}}\\frac{\\exp{(-\\mu x)}}{x}.\n",
    "$$"
   ]
  },
  {
   "cell_type": "markdown",
   "metadata": {},
   "source": [
    "We obtain"
   ]
  },
  {
   "cell_type": "markdown",
   "metadata": {},
   "source": [
    "<!-- Equation labels as ordinary links -->\n",
    "<div id=\"_auto4\"></div>\n",
    "\n",
    "$$\n",
    "\\begin{equation}\n",
    "4\\pi \\int dx \\frac{ \\sin{(\\vert \\mathbf{p}-\\mathbf{k}\\vert)x} }{\\vert \\mathbf{p}-\\mathbf{k}\\vert}{\\exp{(-\\mu x)}}= \\frac{4\\pi}{\\mu^2+\\vert \\mathbf{p}-\\mathbf{k}\\vert^2}.\n",
    "\\label{_auto4} \\tag{4}\n",
    "\\end{equation}\n",
    "$$"
   ]
  },
  {
   "cell_type": "markdown",
   "metadata": {},
   "source": [
    "This results gives us"
   ]
  },
  {
   "cell_type": "markdown",
   "metadata": {},
   "source": [
    "<!-- Equation labels as ordinary links -->\n",
    "<div id=\"_auto5\"></div>\n",
    "\n",
    "$$\n",
    "\\begin{equation}\n",
    "\\lim_{\\mu \\to 0}\\frac{e^{2}}{V (2\\pi)^3}  \\int d\\mathbf{p}\\int d\\mathbf{y}\\frac{4\\pi}{\\mu^2+\\vert \\mathbf{p}-\\mathbf{k}\\vert^2}=\\lim_{\\mu \\to 0}\\frac{e^{2}}{ 2\\pi^2}  \\int d\\mathbf{p}\\frac{1}{\\mu^2+\\vert \\mathbf{p}-\\mathbf{k}\\vert^2},\n",
    "\\label{_auto5} \\tag{5}\n",
    "\\end{equation}\n",
    "$$"
   ]
  },
  {
   "cell_type": "markdown",
   "metadata": {},
   "source": [
    "where we have used that the integrand on the left-hand side does not depend on $\\mathbf{y}$ and that $\\int d\\mathbf{y}=V$.\n",
    "\n",
    "Introducing spherical coordinates we can rewrite the integral as"
   ]
  },
  {
   "cell_type": "markdown",
   "metadata": {},
   "source": [
    "<!-- Equation labels as ordinary links -->\n",
    "<div id=\"_auto6\"></div>\n",
    "\n",
    "$$\n",
    "\\begin{equation}\n",
    "\\lim_{\\mu \\to 0}\\frac{e^{2}}{ 2\\pi^2}  \\int d\\mathbf{p}\\frac{1}{\\mu^2+\\vert \\mathbf{p}-\\mathbf{k}\\vert^2}=\\frac{e^{2}}{ 2\\pi^2}  \\int d\\mathbf{p}\\frac{1}{\\vert \\mathbf{p}-\\mathbf{k}\\vert^2}= \n",
    "\\label{_auto6} \\tag{6}\n",
    "\\end{equation}\n",
    "$$"
   ]
  },
  {
   "cell_type": "markdown",
   "metadata": {},
   "source": [
    "<!-- Equation labels as ordinary links -->\n",
    "<div id=\"_auto7\"></div>\n",
    "\n",
    "$$\n",
    "\\begin{equation} \n",
    "\\frac{e^{2}}{\\pi}  \\int_0^{k_F} p^2dp\\int_0^{\\pi} d\\theta\\cos{(\\theta)}\\frac{1}{p^2+k^2-2pk\\cos{(\\theta)}},\n",
    "\\label{_auto7} \\tag{7}\n",
    "\\end{equation}\n",
    "$$"
   ]
  },
  {
   "cell_type": "markdown",
   "metadata": {},
   "source": [
    "and with the change of variables $\\cos{(\\theta)}=u$ we have"
   ]
  },
  {
   "cell_type": "markdown",
   "metadata": {},
   "source": [
    "$$\n",
    "\\frac{e^{2}}{\\pi}  \\int_0^{k_F} p^2dp\\int_{0}^{\\pi} d\\theta\\cos{(\\theta)}\\frac{1}{p^2+k^2-2pk\\cos{(\\theta)}}=\\frac{e^{2}}{\\pi}  \\int_0^{k_F} p^2dp\\int_{-1}^{1} du\\frac{1}{p^2+k^2-2pku},\n",
    "$$"
   ]
  },
  {
   "cell_type": "markdown",
   "metadata": {},
   "source": [
    "which gives"
   ]
  },
  {
   "cell_type": "markdown",
   "metadata": {},
   "source": [
    "$$\n",
    "\\frac{e^{2}}{k\\pi}  \\int_0^{k_F} pdp\\left\\{ln(\\vert p+k\\vert)-ln(\\vert p-k\\vert)\\right\\}.\n",
    "$$"
   ]
  },
  {
   "cell_type": "markdown",
   "metadata": {},
   "source": [
    "Introducing new variables $x=p+k$ and $y=p-k$, we obtain after some straightforward reordering of the integral"
   ]
  },
  {
   "cell_type": "markdown",
   "metadata": {},
   "source": [
    "$$\n",
    "\\frac{e^{2}}{k\\pi}\\left[\n",
    "kk_F+\\frac{k_{F}^{2}-k^{2}}{kk_{F}}ln\\left\\vert\\frac{k+k_{F}}\n",
    "{k-k_{F}}\\right\\vert\n",
    "\\right],\n",
    "$$"
   ]
  },
  {
   "cell_type": "markdown",
   "metadata": {},
   "source": [
    "which gives the abovementioned expression for the single-particle energy.\n",
    "\n",
    "<!-- --- end solution of exercise --- -->\n",
    "\n",
    "**b)**\n",
    "Rewrite the above result as a function of the density"
   ]
  },
  {
   "cell_type": "markdown",
   "metadata": {},
   "source": [
    "$$\n",
    "n= \\frac{k_F^3}{3\\pi^2}=\\frac{3}{4\\pi r_s^3},\n",
    "$$"
   ]
  },
  {
   "cell_type": "markdown",
   "metadata": {},
   "source": [
    "where $n=N/V$, $N$ being the number of particles, and $r_s$ is the radius of a sphere which represents the volum per conducting electron.\n",
    "\n",
    "\n",
    "<!-- --- begin solution of exercise --- -->\n",
    "**Solution.**\n",
    "Introducing the dimensionless quantity $x=k/k_F$ and the function"
   ]
  },
  {
   "cell_type": "markdown",
   "metadata": {},
   "source": [
    "$$\n",
    "F(x) = \\frac{1}{2}+\\frac{1-x^2}{4x}\\ln{\\left\\vert \\frac{1+x}{1-x}\\right\\vert},\n",
    "$$"
   ]
  },
  {
   "cell_type": "markdown",
   "metadata": {},
   "source": [
    "we can rewrite the single-particle Hartree-Fock energy as"
   ]
  },
  {
   "cell_type": "markdown",
   "metadata": {},
   "source": [
    "$$\n",
    "\\varepsilon_{k}^{HF}=\\frac{\\hbar^{2}k^{2}}{2m}-\\frac{2e^{2}\n",
    "k_{F}}{\\pi}F(k/k_F),\n",
    "$$"
   ]
  },
  {
   "cell_type": "markdown",
   "metadata": {},
   "source": [
    "and dividing by the non-interacting contribution at the Fermi level,"
   ]
  },
  {
   "cell_type": "markdown",
   "metadata": {},
   "source": [
    "$$\n",
    "\\varepsilon_{0}^{F}=\\frac{\\hbar^{2}k_F^{2}}{2m},\n",
    "$$"
   ]
  },
  {
   "cell_type": "markdown",
   "metadata": {},
   "source": [
    "we have"
   ]
  },
  {
   "cell_type": "markdown",
   "metadata": {},
   "source": [
    "$$\n",
    "\\frac{\\varepsilon_{k}^{HF} }{\\varepsilon_{0}^{F}}=x^2-\\frac{e^2m}{\\hbar^2 k_F\\pi}F(x)=x^2-\\frac{4}{\\pi k_Fa_0}F(x),\n",
    "$$"
   ]
  },
  {
   "cell_type": "markdown",
   "metadata": {},
   "source": [
    "where $a_0=0.0529$ nm is the Bohr radius, setting thereby a natural length scale. \n",
    "\n",
    "\n",
    "By introducing the radius $r_s$ of a sphere whose volume is the volume occupied by each electron, we can rewrite the previous equation in terms of $r_s$ using that the electron density $n=N/V$"
   ]
  },
  {
   "cell_type": "markdown",
   "metadata": {},
   "source": [
    "$$\n",
    "n=\\frac{k_F^3}{3\\pi^2} = \\frac{3}{4\\pi r_s^3},\n",
    "$$"
   ]
  },
  {
   "cell_type": "markdown",
   "metadata": {},
   "source": [
    "we have (with $k_F=1.92/r_s$,"
   ]
  },
  {
   "cell_type": "markdown",
   "metadata": {},
   "source": [
    "$$\n",
    "\\frac{\\varepsilon_{k}^{HF} }{\\varepsilon_{0}^{F}}=x^2-\\frac{e^2m}{\\hbar^2 k_F\\pi}F(x)=x^2-\\frac{r_s}{a_0}0.663F(x),\n",
    "$$"
   ]
  },
  {
   "cell_type": "markdown",
   "metadata": {},
   "source": [
    "with $r_s \\sim 2-6$ for most metals.\n",
    "\n",
    "<!-- --- end solution of exercise --- -->\n",
    "\n",
    "It can be convenient to use the Bohr radius $a_0=\\hbar^2/e^2m$.\n",
    "For most metals we have a relation $r_s/a_0\\sim 2-6$.\n",
    "\n",
    "**c)**\n",
    "Make a plot of the free electron energy and the Hartree-Fock energy and discuss the behavior around the Fermi surface. Extract also   the Hartree-Fock band width $\\Delta\\varepsilon^{HF}$ defined as"
   ]
  },
  {
   "cell_type": "markdown",
   "metadata": {},
   "source": [
    "$$\n",
    "\\Delta\\varepsilon^{HF}=\\varepsilon_{k_{F}}^{HF}-\n",
    "\\varepsilon_{0}^{HF}.\n",
    "$$"
   ]
  },
  {
   "cell_type": "markdown",
   "metadata": {},
   "source": [
    "Compare this results with the corresponding one for a free electron and comment your results. How large is the contribution due to the exchange term in the Hartree-Fock equation?\n",
    "\n",
    "\n",
    "<!-- --- begin solution of exercise --- -->\n",
    "**Solution.**\n",
    "We can now define the so-called band gap, that is the scatter between the maximal and the minimal value of the electrons in the conductance band of a metal (up to the Fermi level). \n",
    "For $x=1$ and $r_s/a_0=4$ we have"
   ]
  },
  {
   "cell_type": "markdown",
   "metadata": {},
   "source": [
    "$$\n",
    "\\frac{\\varepsilon_{k=k_F}^{HF} }{\\varepsilon_{0}^{F}} = -0.326,\n",
    "$$"
   ]
  },
  {
   "cell_type": "markdown",
   "metadata": {},
   "source": [
    "and for $x=0$ we have"
   ]
  },
  {
   "cell_type": "markdown",
   "metadata": {},
   "source": [
    "$$\n",
    "\\frac{\\varepsilon_{k=0}^{HF} }{\\varepsilon_{0}^{F}} = -2.652,\n",
    "$$"
   ]
  },
  {
   "cell_type": "markdown",
   "metadata": {},
   "source": [
    "which results in a gap at the Fermi level of"
   ]
  },
  {
   "cell_type": "markdown",
   "metadata": {},
   "source": [
    "$$\n",
    "\\Delta \\varepsilon^{HF} = \\frac{\\varepsilon_{k=k_F}^{HF} }{\\varepsilon_{0}^{F}}-\\frac{\\varepsilon_{k=0}^{HF} }{\\varepsilon_{0}^{F}} = 2.326.\n",
    "$$"
   ]
  },
  {
   "cell_type": "markdown",
   "metadata": {},
   "source": [
    "This quantity measures the deviation from the $k=0$ single-particle energy and the energy at the Fermi level.\n",
    "The general result is"
   ]
  },
  {
   "cell_type": "markdown",
   "metadata": {},
   "source": [
    "$$\n",
    "\\Delta \\varepsilon^{HF} = 1+\\frac{r_s}{a_0}0.663.\n",
    "$$"
   ]
  },
  {
   "cell_type": "markdown",
   "metadata": {},
   "source": [
    "The following python code produces a plot of the electron energy for a free electron (only kinetic energy) and \n",
    "for the Hartree-Fock solution. We have chosen here a ratio $r_s/a_0=4$ and the equations are plotted as funtions\n",
    "of $k/f_F$."
   ]
  },
  {
   "cell_type": "code",
   "execution_count": 1,
   "metadata": {
    "collapsed": false
   },
   "outputs": [
    {
     "name": "stderr",
     "output_type": "stream",
     "text": [
      "/usr/local/lib/python3.6/site-packages/ipykernel/__main__.py:19: RuntimeWarning: invalid value encountered in true_divide\n"
     ]
    },
    {
     "data": {
      "image/png": "[encoded data removed]",
      "text/plain": [
       "<matplotlib.figure.Figure at 0x10dbf5ac8>"
      ]
     },
     "metadata": {},
     "output_type": "display_data"
    }
   ],
   "source": [
    "%matplotlib inline\n",
    "\n",
    "import numpy as np\n",
    "from math import log\n",
    "from  matplotlib import pyplot as plt\n",
    "from matplotlib import rc, rcParams\n",
    "import matplotlib.units as units\n",
    "import matplotlib.ticker as ticker\n",
    "rc('text',usetex=True)\n",
    "rc('font',**{'family':'serif','serif':['Hartree-Fock energy']})\n",
    "font = {'family' : 'serif',\n",
    "        'color'  : 'darkred',\n",
    "        'weight' : 'normal',\n",
    "        'size'   : 16,\n",
    "        }\n",
    "\n",
    "N = 100\n",
    "x = np.linspace(0.0, 2.0,N)\n",
    "F = 0.5+np.log(abs((1.0+x)/(1.0-x)))*(1.0-x*x)*0.25/x\n",
    "y = x*x -4.0*0.663*F\n",
    "\n",
    "plt.plot(x, y, 'b-')\n",
    "plt.plot(x, x*x, 'r-')\n",
    "plt.title(r'{\\bf Hartree-Fock single-particle energy for electron gas}', fontsize=20)     \n",
    "plt.text(3, -40, r'Parameters: $r_s/a_0=4$', fontdict=font)\n",
    "plt.xlabel(r'$k/k_F$',fontsize=20)\n",
    "plt.ylabel(r'$\\varepsilon_k^{HF}/\\varepsilon_0^F$',fontsize=20)\n",
    "# Tweak spacing to prevent clipping of ylabel\n",
    "plt.subplots_adjust(left=0.15)\n",
    "plt.savefig('hartreefockspelgas.pdf', format='pdf')\n",
    "plt.show()"
   ]
  },
  {
   "cell_type": "markdown",
   "metadata": {},
   "source": [
    "From the plot we notice that the exchange term increases considerably the band gap\n",
    "compared with the non-interacting gas of electrons.\n",
    "\n",
    "<!-- --- end solution of exercise --- -->\n",
    "We will now define a quantity called the effective mass.\n",
    "For $\\vert\\mathbf{k}\\vert$ near $k_{F}$, we can Taylor expand the Hartree-Fock energy as"
   ]
  },
  {
   "cell_type": "markdown",
   "metadata": {},
   "source": [
    "$$\n",
    "\\varepsilon_{k}^{HF}=\\varepsilon_{k_{F}}^{HF}+\n",
    "\\left(\\frac{\\partial\\varepsilon_{k}^{HF}}{\\partial k}\\right)_{k_{F}}(k-k_{F})+\\dots\n",
    "$$"
   ]
  },
  {
   "cell_type": "markdown",
   "metadata": {},
   "source": [
    "If we compare the latter with the corresponding expressiyon for the non-interacting system"
   ]
  },
  {
   "cell_type": "markdown",
   "metadata": {},
   "source": [
    "$$\n",
    "\\varepsilon_{k}^{(0)}=\\frac{\\hbar^{2}k^{2}_{F}}{2m}+\n",
    "\\frac{\\hbar^{2}k_{F}}{m}\\left(k-k_{F}\\right)+\\dots ,\n",
    "$$"
   ]
  },
  {
   "cell_type": "markdown",
   "metadata": {},
   "source": [
    "we can define the so-called effective Hartree-Fock mass as"
   ]
  },
  {
   "cell_type": "markdown",
   "metadata": {},
   "source": [
    "$$\n",
    "m_{HF}^{*}\\equiv\\hbar^{2}k_{F}\\left(\n",
    "\\frac{\\partial\\varepsilon_{k}^{HF}}\n",
    "{\\partial k}\\right)_{k_{F}}^{-1}\n",
    "$$"
   ]
  },
  {
   "cell_type": "markdown",
   "metadata": {},
   "source": [
    "**d)**\n",
    "Compute $m_{HF}^{*}$ and comment your results.\n",
    "\n",
    "**e)**\n",
    "Show that the level density (the number of single-electron states per unit energy) can be written as"
   ]
  },
  {
   "cell_type": "markdown",
   "metadata": {},
   "source": [
    "$$\n",
    "n(\\varepsilon)=\\frac{Vk^{2}}{2\\pi^{2}}\\left(\n",
    "\\frac{\\partial\\varepsilon}{\\partial k}\\right)^{-1}\n",
    "$$"
   ]
  },
  {
   "cell_type": "markdown",
   "metadata": {},
   "source": [
    "Calculate $n(\\varepsilon_{F}^{HF})$ and comment the results.\n",
    "\n",
    "\n",
    "\n",
    "\n",
    "<!-- --- end exercise --- -->\n",
    "\n",
    "\n",
    "\n",
    "\n",
    "<!-- --- begin exercise --- -->\n",
    "\n",
    "## Exercise 2: Hartree-Fock ground state energy for the  electron gas in three dimensions\n",
    "\n",
    "We consider a system of electrons in infinite matter, the so-called electron gas. This is a homogeneous system and the one-particle states are given by plane wave function normalized to a volume $\\Omega$ \n",
    "for a box with length $L$ (the limit $L\\rightarrow \\infty$ is to be taken after we have computed various expectation values)"
   ]
  },
  {
   "cell_type": "markdown",
   "metadata": {},
   "source": [
    "$$\n",
    "\\psi_{\\mathbf{k}\\sigma}(\\mathbf{r})= \\frac{1}{\\sqrt{\\Omega}}\\exp{(i\\mathbf{kr})}\\xi_{\\sigma}\n",
    "$$"
   ]
  },
  {
   "cell_type": "markdown",
   "metadata": {},
   "source": [
    "where $\\mathbf{k}$ is the wave number and  $\\xi_{\\sigma}$ is a spin function for either spin up or down"
   ]
  },
  {
   "cell_type": "markdown",
   "metadata": {},
   "source": [
    "$$\n",
    "\\xi_{\\sigma=+1/2}=\\left(\\begin{array}{c} 1 \\\\ 0 \\end{array}\\right) \\hspace{0.5cm}\n",
    "\\xi_{\\sigma=-1/2}=\\left(\\begin{array}{c} 0 \\\\ 1 \\end{array}\\right).\n",
    "$$"
   ]
  },
  {
   "cell_type": "markdown",
   "metadata": {},
   "source": [
    "We assume that we have periodic boundary conditions which limit the allowed wave numbers to"
   ]
  },
  {
   "cell_type": "markdown",
   "metadata": {},
   "source": [
    "$$\n",
    "k_i=\\frac{2\\pi n_i}{L}\\hspace{0.5cm} i=x,y,z \\hspace{0.5cm} n_i=0,\\pm 1,\\pm 2, \\dots\n",
    "$$"
   ]
  },
  {
   "cell_type": "markdown",
   "metadata": {},
   "source": [
    "We assume first that the particles interact via a central, symmetric and translationally invariant\n",
    "interaction  $V(r_{12})$ with\n",
    "$r_{12}=|\\mathbf{r}_1-\\mathbf{r}_2|$.  The interaction is spin independent.\n",
    "\n",
    "The total Hamiltonian consists then of kinetic and potential energy"
   ]
  },
  {
   "cell_type": "markdown",
   "metadata": {},
   "source": [
    "$$\n",
    "\\hat{H} = \\hat{T}+\\hat{V}.\n",
    "$$"
   ]
  },
  {
   "cell_type": "markdown",
   "metadata": {},
   "source": [
    "The operator for the kinetic energy is given by"
   ]
  },
  {
   "cell_type": "markdown",
   "metadata": {},
   "source": [
    "$$\n",
    "\\hat{T}=\\sum_{\\mathbf{k}\\sigma}\\frac{\\hbar^2k^2}{2m}a_{\\mathbf{k}\\sigma}^{\\dagger}a_{\\mathbf{k}\\sigma}.\n",
    "$$"
   ]
  },
  {
   "cell_type": "markdown",
   "metadata": {},
   "source": [
    "**a)**\n",
    "Find the expression for the interaction\n",
    "$\\hat{V}$ expressed with creation and annihilation operators.   The expression for the interaction\n",
    "has to be written in  $k$ space, even though $V$ depends only on the relative distance. It means that you need to set up the Fourier transform $\\langle \\mathbf{k}_i\\mathbf{k}_j| V | \\mathbf{k}_m\\mathbf{k}_n\\rangle$.\n",
    "\n",
    "\n",
    "<!-- --- begin solution of exercise --- -->\n",
    "**Solution.**\n",
    "A general two-body interaction element is given by (not using anti-symmetrized matrix elements)"
   ]
  },
  {
   "cell_type": "markdown",
   "metadata": {},
   "source": [
    "$$\n",
    "\\hat{V} = \\frac{1}{2} \\sum_{pqrs} \\langle pq \\hat{v} \\vert rs\\rangle a_p^\\dagger a_q^\\dagger a_s a_r ,\n",
    "$$"
   ]
  },
  {
   "cell_type": "markdown",
   "metadata": {},
   "source": [
    "where $\\hat{v}$ is assumed to depend only on the relative distance between two interacting particles, that is\n",
    "$\\hat{v} = v(\\vec r_1, \\vec r_2) = v(|\\vec r_1 - \\vec r_2|) = v(r)$, with $r = |\\vec r_1 - \\vec r_2|$). \n",
    "In our case we have, writing out explicitely the spin degrees of freedom as well"
   ]
  },
  {
   "cell_type": "markdown",
   "metadata": {},
   "source": [
    "<!-- Equation labels as ordinary links -->\n",
    "<div id=\"_auto8\"></div>\n",
    "\n",
    "$$\n",
    "\\begin{equation}\n",
    "\\hat{V} = \\frac{1}{2} \\sum_{\\substack{\\sigma_p \\sigma_q \\\\ \\sigma_r \\sigma_s}}\n",
    "\\sum_{\\substack{\\mathbf{k}_p \\mathbf{k}_q \\\\ \\mathbf{k}_r \\mathbf{k}_s}}\n",
    "\\langle \\mathbf{k}_p \\sigma_p, \\mathbf{k}_q \\sigma_2\\vert v \\vert \\mathbf{k}_r \\sigma_3, \\mathbf{k}_s \\sigma_s\\rangle\n",
    "a_{\\mathbf{k}_p \\sigma_p}^\\dagger a_{\\mathbf{k}_q \\sigma_q}^\\dagger a_{\\mathbf{k}_s \\sigma_s} a_{\\mathbf{k}_r \\sigma_r} .\n",
    "\\label{_auto8} \\tag{8}\n",
    "\\end{equation}\n",
    "$$"
   ]
  },
  {
   "cell_type": "markdown",
   "metadata": {},
   "source": [
    "Inserting plane waves as eigenstates we can rewrite the matrix element as"
   ]
  },
  {
   "cell_type": "markdown",
   "metadata": {},
   "source": [
    "$$\n",
    "\\langle \\mathbf{k}_p \\sigma_p, \\mathbf{k}_q \\sigma_q\\vert \\hat{v} \\vert \\mathbf{k}_r \\sigma_r, \\mathbf{k}_s \\sigma_s\\rangle =\n",
    "\\frac{1}{\\Omega^2} \\delta_{\\sigma_p \\sigma_r} \\delta_{\\sigma_q \\sigma_s}\n",
    "\\int\\int \\exp{-i(\\mathbf{k}_p \\cdot \\mathbf{r}_p)} \\exp{-i( \\mathbf{k}_q \\cdot \\mathbf{r}_q)} \\hat{v}(r) \\exp{i(\\mathbf{k}_r \\cdot \\mathbf{r}_p)} \\exp{i( \\mathbf{k}_s \\cdot \\mathbf{r}_q)} d\\mathbf{r}_p d\\mathbf{r}_q ,\n",
    "$$"
   ]
  },
  {
   "cell_type": "markdown",
   "metadata": {},
   "source": [
    "where we have used the orthogonality properties of the spin functions. We change now the variables of integration\n",
    "by defining $\\mathbf{r} = \\mathbf{r}_p - \\mathbf{r}_q$, which gives $\\mathbf{r}_p = \\mathbf{r} + \\mathbf{r}_q$ and $d^3 \\mathbf{r} = d^3 \\mathbf{r}_p$. \n",
    "The limits are not changed since they are from $-\\infty$ to  $\\infty$ for all integrals. This results in"
   ]
  },
  {
   "cell_type": "markdown",
   "metadata": {},
   "source": [
    "$$\n",
    "\\begin{align*}\n",
    "\\langle \\mathbf{k}_p \\sigma_p, \\mathbf{k}_q \\sigma_q\\vert \\hat{v} \\vert \\mathbf{k}_r \\sigma_r, \\mathbf{k}_s \\sigma_s\\rangle\n",
    "&= \\frac{1}{\\Omega^2} \\delta_{\\sigma_p \\sigma_r} \\delta_{\\sigma_q \\sigma_s} \\int\\exp{i (\\mathbf{k}_s - \\mathbf{k}_q) \\cdot \\mathbf{r}_q} \\int v(r) \\exp{i(\\mathbf{k}_r - \\mathbf{k}_p) \\cdot ( \\mathbf{r} + \\mathbf{r}_q)} d\\mathbf{r} d\\mathbf{r}_q \\\\\n",
    "&= \\frac{1}{\\Omega^2} \\delta_{\\sigma_p \\sigma_r} \\delta_{\\sigma_q \\sigma_s} \\int v(r) \\exp{i\\left[(\\mathbf{k}_r - \\mathbf{k}_p) \\cdot \\mathbf{r}\\right]}\n",
    "\\int \\exp{i\\left[(\\mathbf{k}_s - \\mathbf{k}_q + \\mathbf{k}_r - \\mathbf{k}_p) \\cdot \\mathbf{r}_q\\right]} d\\mathbf{r}_q d\\mathbf{r} .\n",
    "\\end{align*}\n",
    "$$"
   ]
  },
  {
   "cell_type": "markdown",
   "metadata": {},
   "source": [
    "We recognize the integral over $\\mathbf{r}_q$ as a $\\delta$-function, resulting in"
   ]
  },
  {
   "cell_type": "markdown",
   "metadata": {},
   "source": [
    "$$\n",
    "\\langle \\mathbf{k}_p \\sigma_p, \\mathbf{k}_q \\sigma_q\\vert \\hat{v} \\vert \\mathbf{k}_r \\sigma_r, \\mathbf{k}_s \\sigma_s\\rangle =\n",
    "\\frac{1}{\\Omega} \\delta_{\\sigma_p \\sigma_r} \\delta_{\\sigma_q \\sigma_s} \\delta_{(\\mathbf{k}_p + \\mathbf{k}_q),(\\mathbf{k}_r + \\mathbf{k}_s)} \\int v(r) \\exp{i\\left[(\\mathbf{k}_r - \\mathbf{k}_p) \\cdot \\mathbf{r}\\right]} d^3r .\n",
    "$$"
   ]
  },
  {
   "cell_type": "markdown",
   "metadata": {},
   "source": [
    "For this equation to be different from zero, we must have conservation of momenta, we need to satisfy\n",
    "$\\mathbf{k}_p + \\mathbf{k}_q = \\mathbf{k}_r + \\mathbf{k}_s$. We can use the conservation of momenta to remove one of the summation variables resulting in"
   ]
  },
  {
   "cell_type": "markdown",
   "metadata": {},
   "source": [
    "$$\n",
    "\\hat{V} =\n",
    "\\frac{1}{2\\Omega} \\sum_{\\sigma \\sigma'} \\sum_{\\mathbf{k}_p \\mathbf{k}_q \\mathbf{k}_r} \\left[ \\int v(r) \\exp{i\\left[(\\mathbf{k}_r - \\mathbf{k}_p) \\cdot \\mathbf{r}\\right]} d^3r \\right]\n",
    "a_{\\mathbf{k}_p \\sigma}^\\dagger a_{\\mathbf{k}_q \\sigma'}^\\dagger a_{\\mathbf{k}_p + \\mathbf{k}_q - \\mathbf{k}_r, \\sigma'} a_{\\mathbf{k}_r \\sigma},\n",
    "$$"
   ]
  },
  {
   "cell_type": "markdown",
   "metadata": {},
   "source": [
    "which can be rewritten as"
   ]
  },
  {
   "cell_type": "markdown",
   "metadata": {},
   "source": [
    "<!-- Equation labels as ordinary links -->\n",
    "<div id=\"eq:V\"></div>\n",
    "\n",
    "$$\n",
    "\\begin{equation}\n",
    "\\hat{V} =\n",
    "\\frac{1}{2\\Omega} \\sum_{\\sigma \\sigma'} \\sum_{\\mathbf{k} \\mathbf{p} \\mathbf{q}} \\left[ \\int v(r) \\exp{-i( \\mathbf{q} \\cdot \\mathbf{r})} d\\mathbf{r} \\right]\n",
    "a_{\\mathbf{k} + \\mathbf{q}, \\sigma}^\\dagger a_{\\mathbf{p} - \\mathbf{q}, \\sigma'}^\\dagger a_{\\mathbf{p} \\sigma'} a_{\\mathbf{k} \\sigma},\n",
    "\\label{eq:V} \\tag{9}\n",
    "\\end{equation}\n",
    "$$"
   ]
  },
  {
   "cell_type": "markdown",
   "metadata": {},
   "source": [
    "This equation will be useful for our nuclear matter calculations as well. In the last equation we defined\n",
    "the quantities\n",
    "$\\mathbf{p} = \\mathbf{k}_p + \\mathbf{k}_q - \\mathbf{k}_r$, $\\mathbf{k} = \\mathbf{k}_r$ og $\\mathbf{q} = \\mathbf{k}_p - \\mathbf{k}_r$.\n",
    "\n",
    "<!-- --- end solution of exercise --- -->\n",
    "\n",
    "**b)**\n",
    "Calculate thereafter the reference energy for the infinite electron gas in three dimensions using the above expressions for the kinetic energy and the potential energy.\n",
    "\n",
    "\n",
    "<!-- --- begin solution of exercise --- -->\n",
    "**Solution.**\n",
    "Let us now compute the expectation value of the reference energy using the expressions for the kinetic energy operator and the interaction.\n",
    "We need to compute $\\langle \\Phi_0\\vert \\hat{H} \\vert \\Phi_0\\rangle = \\langle \\Phi_0\\vert \\hat{T} \\vert \\Phi_0\\rangle + \\langle \\Phi_0\\vert \\hat{V} \\vert \\Phi_0\\rangle$, where $\\vert \\Phi_0\\rangle$ is our reference Slater determinant, constructed from filling all single-particle states up to the Fermi level.\n",
    "Let us start with the kinetic energy first"
   ]
  },
  {
   "cell_type": "markdown",
   "metadata": {},
   "source": [
    "$$\n",
    "\\langle \\Phi_0\\vert \\hat{T} \\vert \\Phi_0\\rangle \n",
    "= \\langle \\Phi_0\\vert \\left( \\sum_{\\mathbf{p} \\sigma} \\frac{\\hbar^2 p^2}{2m} a_{\\mathbf{p} \\sigma}^\\dagger a_{\\mathbf{p} \\sigma} \\right) \\vert \\Phi_0\\rangle \\\\\n",
    "= \\sum_{\\mathbf{p} \\sigma} \\frac{\\hbar^2 p^2}{2m} \\langle \\Phi_0\\vert a_{\\mathbf{p} \\sigma}^\\dagger a_{\\mathbf{p} \\sigma} \\vert \\Phi_0\\rangle .\n",
    "$$"
   ]
  },
  {
   "cell_type": "markdown",
   "metadata": {},
   "source": [
    "From the possible contractions using Wick's theorem, it is straightforward to convince oneself that the expression for the kinetic energy becomes"
   ]
  },
  {
   "cell_type": "markdown",
   "metadata": {},
   "source": [
    "$$\n",
    "\\langle \\Phi_0\\vert \\hat{T} \\vert \\Phi_0\\rangle = \\sum_{\\mathbf{i} \\leq F} \\frac{\\hbar^2 k_i^2}{m} = \\frac{\\Omega}{(2\\pi)^3} \\frac{\\hbar^2}{m} \\int_0^{k_F} k^2 d\\mathbf{k}.\n",
    "$$"
   ]
  },
  {
   "cell_type": "markdown",
   "metadata": {},
   "source": [
    "The sum of the spin degrees of freedom results in  a factor of two only if we deal with identical spin $1/2$ fermions. \n",
    "Changing to spherical coordinates, the integral over the momenta $k$ results in the final expression"
   ]
  },
  {
   "cell_type": "markdown",
   "metadata": {},
   "source": [
    "$$\n",
    "\\langle \\Phi_0\\vert \\hat{T} \\vert \\Phi_0\\rangle = \\frac{\\Omega}{(2\\pi)^3} \\left( 4\\pi \\int_0^{k_F} k^4 d\\mathbf{k} \\right) = \\frac{4\\pi\\Omega}{(2\\pi)^3} \\frac{1}{5} k_F^5 = \\frac{4\\pi\\Omega}{5(2\\pi)^3} k_F^5 = \\frac{\\hbar^2 \\Omega}{10\\pi^2 m} k_F^5 .\n",
    "$$"
   ]
  },
  {
   "cell_type": "markdown",
   "metadata": {},
   "source": [
    "The density of states in momentum space is given by $2\\Omega/(2\\pi)^3$, where we have included the degeneracy due to the spin degrees of freedom.\n",
    "The volume is given by  $4\\pi k_F^3/3$, and the number of particles becomes"
   ]
  },
  {
   "cell_type": "markdown",
   "metadata": {},
   "source": [
    "$$\n",
    "N = \\frac{2\\Omega}{(2\\pi)^3} \\frac{4}{3} \\pi k_F^3 = \\frac{\\Omega}{3\\pi^2} k_F^3 \\quad \\Rightarrow \\quad\n",
    "k_F = \\left( \\frac{3\\pi^2 N}{\\Omega} \\right)^{1/3}.\n",
    "$$"
   ]
  },
  {
   "cell_type": "markdown",
   "metadata": {},
   "source": [
    "This gives us"
   ]
  },
  {
   "cell_type": "markdown",
   "metadata": {},
   "source": [
    "<!-- Equation labels as ordinary links -->\n",
    "<div id=\"eq:T_forventning\"></div>\n",
    "\n",
    "$$\n",
    "\\begin{equation}\n",
    "\\langle \\Phi_0\\vert \\hat{T} \\vert \\Phi_0\\rangle =\n",
    "\\frac{\\hbar^2 \\Omega}{10\\pi^2 m} \\left( \\frac{3\\pi^2 N}{\\Omega} \\right)^{5/3} =\n",
    "\\frac{\\hbar^2 (3\\pi^2)^{5/3} N}{10\\pi^2 m} \\rho^{2/3} ,\n",
    "\\label{eq:T_forventning} \\tag{10}\n",
    "\\end{equation}\n",
    "$$"
   ]
  },
  {
   "cell_type": "markdown",
   "metadata": {},
   "source": [
    "We are now ready to calculate the expectation value of the potential energy"
   ]
  },
  {
   "cell_type": "markdown",
   "metadata": {},
   "source": [
    "$$\n",
    "\\begin{align*}\n",
    "\\langle \\Phi_0\\vert \\hat{V} \\vert \\Phi_0\\rangle \n",
    "&= \\langle \\Phi_0\\vert \\left( \\frac{1}{2\\Omega} \\sum_{\\sigma \\sigma'} \\sum_{\\mathbf{k} \\mathbf{p} \\mathbf{q} } \\left[ \\int v(r) \\exp{-i (\\mathbf{q} \\cdot \\mathbf{r})} d\\mathbf{r} \\right] a_{\\mathbf{k} + \\mathbf{q}, \\sigma}^\\dagger a_{\\mathbf{p} - \\mathbf{q}, \\sigma'}^\\dagger a_{\\mathbf{p} \\sigma'} a_{\\mathbf{k} \\sigma} \\right) \\vert \\Phi_0\\rangle \\\\\n",
    "&= \\frac{1}{2\\Omega} \\sum_{\\sigma \\sigma'} \\sum_{\\mathbf{k} \\mathbf{p} \\mathbf{q}} \\left[ \\int v(r) \\exp{-i (\\mathbf{q} \\cdot \\mathbf{r})} d\\mathbf{r} \\right]\\langle \\Phi_0\\vert a_{\\mathbf{k} + \\mathbf{q}, \\sigma}^\\dagger a_{\\mathbf{p} - \\mathbf{q}, \\sigma'}^\\dagger a_{\\mathbf{p} \\sigma'} a_{\\mathbf{k} \\sigma} \\vert \\Phi_0\\rangle .\n",
    "\\end{align*}\n",
    "$$"
   ]
  },
  {
   "cell_type": "markdown",
   "metadata": {},
   "source": [
    "The only contractions which result in non-zero results are those that involve states below the Fermi level, that is \n",
    "$k \\leq k_F$, $p \\leq k_F$, $|\\mathbf{p} - \\mathbf{q}| < \\mathbf{k}_F$ and $|\\mathbf{k} + \\mathbf{q}| \\leq k_F$. Due to momentum conservation we must also have $\\mathbf{k} + \\mathbf{q} = \\mathbf{p}$, $\\mathbf{p} - \\mathbf{q} = \\mathbf{k}$ and  $\\sigma = \\sigma'$ or  $\\mathbf{k} + \\mathbf{q} = \\mathbf{k}$ and $\\mathbf{p} - \\mathbf{q} = \\mathbf{p}$. \n",
    "Summarizing, we must have"
   ]
  },
  {
   "cell_type": "markdown",
   "metadata": {},
   "source": [
    "$$\n",
    "\\mathbf{k} + \\mathbf{q} = \\mathbf{p} \\quad \\text{and} \\quad \\sigma = \\sigma', \\qquad\n",
    "\\text{or} \\qquad\n",
    "\\mathbf{q} = \\mathbf{0} .\n",
    "$$"
   ]
  },
  {
   "cell_type": "markdown",
   "metadata": {},
   "source": [
    "We obtain then"
   ]
  },
  {
   "cell_type": "markdown",
   "metadata": {},
   "source": [
    "$$\n",
    "\\langle \\Phi_0\\vert \\hat{V} \\vert \\Phi_0\\rangle =\n",
    "\\frac{1}{2\\Omega} \\left( \\sum_{\\sigma \\sigma'} \\sum_{\\mathbf{q} \\mathbf{p} \\leq F} \\left[ \\int v(r) d\\mathbf{r} \\right] - \\sum_{\\sigma}\n",
    "\\sum_{\\mathbf{q} \\mathbf{p} \\leq F} \\left[ \\int v(r) \\exp{-i (\\mathbf{q} \\cdot \\mathbf{r})} d\\mathbf{r} \\right] \\right).\n",
    "$$"
   ]
  },
  {
   "cell_type": "markdown",
   "metadata": {},
   "source": [
    "The first term is the so-called direct term while the second term is the exchange term. \n",
    "We can rewrite this equation as (and this applies to any potential which depends only on the relative distance between particles)"
   ]
  },
  {
   "cell_type": "markdown",
   "metadata": {},
   "source": [
    "<!-- Equation labels as ordinary links -->\n",
    "<div id=\"eq:V_b\"></div>\n",
    "\n",
    "$$\n",
    "\\begin{equation}\n",
    "\\langle \\Phi_0\\vert \\hat{V} \\vert \\Phi_0\\rangle =\n",
    "\\frac{1}{2\\Omega} \\left( N^2 \\left[ \\int v(r) d\\mathbf{r} \\right] - N \\sum_{\\mathbf{q}} \\left[ \\int v(r) \\exp{-i (\\mathbf{q}\\cdot \\mathbf{r})} d\\mathbf{r} \\right] \\right),\n",
    "\\label{eq:V_b} \\tag{11}\n",
    "\\end{equation}\n",
    "$$"
   ]
  },
  {
   "cell_type": "markdown",
   "metadata": {},
   "source": [
    "where we have used the fact that a sum like $\\sum_{\\sigma}\\sum_{\\mathbf{k}}$ equals the number of particles. Using the fact that the density is given by\n",
    "$\\rho = N/\\Omega$, with $\\Omega$ being our volume, we can rewrite the last equation as"
   ]
  },
  {
   "cell_type": "markdown",
   "metadata": {},
   "source": [
    "$$\n",
    "\\langle \\Phi_0\\vert \\hat{V} \\vert \\Phi_0\\rangle =\n",
    "\\frac{1}{2} \\left( \\rho N \\left[ \\int v(r) d\\mathbf{r} \\right] - \\rho\\sum_{\\mathbf{q}} \\left[ \\int v(r) \\exp{-i (\\mathbf{q}\\cdot \\mathbf{r})} d\\mathbf{r} \\right] \\right).\n",
    "$$"
   ]
  },
  {
   "cell_type": "markdown",
   "metadata": {},
   "source": [
    "For the electron gas\n",
    "the interaction part of the Hamiltonian operator is given by"
   ]
  },
  {
   "cell_type": "markdown",
   "metadata": {},
   "source": [
    "$$\n",
    "\\hat{H}_I=\\hat{H}_{el}+\\hat{H}_{b}+\\hat{H}_{el-b},\n",
    "$$"
   ]
  },
  {
   "cell_type": "markdown",
   "metadata": {},
   "source": [
    "with the electronic part"
   ]
  },
  {
   "cell_type": "markdown",
   "metadata": {},
   "source": [
    "$$\n",
    "\\hat{H}_{el}=\\sum_{i=1}^N\\frac{p_i^2}{2m}+\\frac{e^2}{2}\\sum_{i\\ne j}\\frac{e^{-\\mu |\\mathbf{r}_i-\\mathbf{r}_j|}}{|\\mathbf{r}_i-\\mathbf{r}_j|},\n",
    "$$"
   ]
  },
  {
   "cell_type": "markdown",
   "metadata": {},
   "source": [
    "where we have introduced an explicit convergence factor\n",
    "(the limit $\\mu\\rightarrow 0$ is performed after having calculated the various integrals).\n",
    "Correspondingly, we have"
   ]
  },
  {
   "cell_type": "markdown",
   "metadata": {},
   "source": [
    "$$\n",
    "\\hat{H}_{b}=\\frac{e^2}{2}\\int\\int d\\mathbf{r}d\\mathbf{r}'\\frac{n(\\mathbf{r})n(\\mathbf{r}')e^{-\\mu |\\mathbf{r}-\\mathbf{r}'|}}{|\\mathbf{r}-\\mathbf{r}'|},\n",
    "$$"
   ]
  },
  {
   "cell_type": "markdown",
   "metadata": {},
   "source": [
    "which is the energy contribution from the positive background charge with density\n",
    "$n(\\mathbf{r})=N/\\Omega$. Finally,"
   ]
  },
  {
   "cell_type": "markdown",
   "metadata": {},
   "source": [
    "$$\n",
    "\\hat{H}_{el-b}=-\\frac{e^2}{2}\\sum_{i=1}^N\\int d\\mathbf{r}\\frac{n(\\mathbf{r})e^{-\\mu |\\mathbf{r}-\\mathbf{x}_i|}}{|\\mathbf{r}-\\mathbf{x}_i|},\n",
    "$$"
   ]
  },
  {
   "cell_type": "markdown",
   "metadata": {},
   "source": [
    "is the interaction between the electrons and the positive background.\n",
    "We can show that"
   ]
  },
  {
   "cell_type": "markdown",
   "metadata": {},
   "source": [
    "$$\n",
    "\\hat{H}_{b}=\\frac{e^2}{2}\\frac{N^2}{\\Omega}\\frac{4\\pi}{\\mu^2},\n",
    "$$"
   ]
  },
  {
   "cell_type": "markdown",
   "metadata": {},
   "source": [
    "and"
   ]
  },
  {
   "cell_type": "markdown",
   "metadata": {},
   "source": [
    "$$\n",
    "\\hat{H}_{el-b}=-e^2\\frac{N^2}{\\Omega}\\frac{4\\pi}{\\mu^2}.\n",
    "$$"
   ]
  },
  {
   "cell_type": "markdown",
   "metadata": {},
   "source": [
    "For the electron gas and a Coulomb interaction, these two terms are cancelled (in the thermodynamic limit) by the contribution from the direct term arising\n",
    "from the repulsive electron-electron interaction. What remains then  when computing the reference energy is only the kinetic energy contribution and the contribution from the exchange term.  For other interactions, like nuclear forces with a short range part and no infinite range, we need to compute both the direct term and the exchange term.\n",
    "\n",
    "<!-- --- end solution of exercise --- -->\n",
    "\n",
    "**c)**\n",
    "Show thereafter that the final Hamiltonian can be written as"
   ]
  },
  {
   "cell_type": "markdown",
   "metadata": {},
   "source": [
    "$$\n",
    "H=H_{0}+H_{I},\n",
    "$$"
   ]
  },
  {
   "cell_type": "markdown",
   "metadata": {},
   "source": [
    "with"
   ]
  },
  {
   "cell_type": "markdown",
   "metadata": {},
   "source": [
    "$$\n",
    "H_{0}={\\displaystyle\\sum_{\\mathbf{k}\\sigma}}\n",
    "\\frac{\\hbar^{2}k^{2}}{2m}a_{\\mathbf{k}\\sigma}^{\\dagger}\n",
    "a_{\\mathbf{k}\\sigma},\n",
    "$$"
   ]
  },
  {
   "cell_type": "markdown",
   "metadata": {},
   "source": [
    "and"
   ]
  },
  {
   "cell_type": "markdown",
   "metadata": {},
   "source": [
    "$$\n",
    "H_{I}=\\frac{e^{2}}{2\\Omega}{\\displaystyle\\sum_{\\sigma_{1}\\sigma_{2}}}{\\displaystyle\\sum_{\\mathbf{q}\\neq 0,\\mathbf{k},\\mathbf{p}}}\\frac{4\\pi}{q^{2}}\n",
    "a_{\\mathbf{k}+\\mathbf{q},\\sigma_{1}}^{\\dagger}\n",
    "a_{\\mathbf{p}-\\mathbf{q},\\sigma_{2}}^{\\dagger}\n",
    "a_{\\mathbf{p}\\sigma_{2}}a_{\\mathbf{k}\\sigma_{1}}.\n",
    "$$"
   ]
  },
  {
   "cell_type": "markdown",
   "metadata": {},
   "source": [
    "**d)**\n",
    "Calculate $E_0/N=\\langle \\Phi_{0}\\vert H\\vert \\Phi_{0}\\rangle/N$ for for this system to first order in the interaction. Show that, by using"
   ]
  },
  {
   "cell_type": "markdown",
   "metadata": {},
   "source": [
    "$$\n",
    "\\rho= \\frac{k_F^3}{3\\pi^2}=\\frac{3}{4\\pi r_0^3},\n",
    "$$"
   ]
  },
  {
   "cell_type": "markdown",
   "metadata": {},
   "source": [
    "with $\\rho=N/\\Omega$, $r_0$\n",
    "being the radius of a sphere representing the volume an electron occupies \n",
    "and the Bohr radius $a_0=\\hbar^2/e^2m$, \n",
    "that the energy per electron can be written as"
   ]
  },
  {
   "cell_type": "markdown",
   "metadata": {},
   "source": [
    "$$\n",
    "E_0/N=\\frac{e^2}{2a_0}\\left[\\frac{2.21}{r_s^2}-\\frac{0.916}{r_s}\\right].\n",
    "$$"
   ]
  },
  {
   "cell_type": "markdown",
   "metadata": {},
   "source": [
    "Here we have defined\n",
    "$r_s=r_0/a_0$ to be a dimensionless quantity.\n",
    "\n",
    "**e)**\n",
    "Plot your results. Why is this system stable?\n",
    "Calculate thermodynamical quantities like the pressure, given by"
   ]
  },
  {
   "cell_type": "markdown",
   "metadata": {},
   "source": [
    "$$\n",
    "P=-\\left(\\frac{\\partial E}{\\partial \\Omega}\\right)_N,\n",
    "$$"
   ]
  },
  {
   "cell_type": "markdown",
   "metadata": {},
   "source": [
    "and the bulk modulus"
   ]
  },
  {
   "cell_type": "markdown",
   "metadata": {},
   "source": [
    "$$\n",
    "B=-\\Omega\\left(\\frac{\\partial P}{\\partial \\Omega}\\right)_N,\n",
    "$$"
   ]
  },
  {
   "cell_type": "markdown",
   "metadata": {},
   "source": [
    "and comment your results.\n",
    "\n",
    "\n",
    "\n",
    "\n",
    "\n",
    "<!-- --- end exercise --- -->\n",
    "\n",
    "\n",
    "## Preparing the ground for numerical calculations; kinetic energy and Ewald term\n",
    "\n",
    "The kinetic energy operator is"
   ]
  },
  {
   "cell_type": "markdown",
   "metadata": {},
   "source": [
    "<!-- Equation labels as ordinary links -->\n",
    "<div id=\"_auto9\"></div>\n",
    "\n",
    "$$\n",
    "\\begin{equation}\n",
    "  \\hat{H}_{\\text{kin}} = -\\frac{\\hbar^{2}}{2m}\\sum_{i=1}^{N}\\nabla_{i}^{2},\n",
    "\\label{_auto9} \\tag{12}\n",
    "\\end{equation}\n",
    "$$"
   ]
  },
  {
   "cell_type": "markdown",
   "metadata": {},
   "source": [
    "where the sum is taken over all particles in the finite\n",
    "box. The Ewald electron-electron interaction operator \n",
    "can be written as"
   ]
  },
  {
   "cell_type": "markdown",
   "metadata": {},
   "source": [
    "<!-- Equation labels as ordinary links -->\n",
    "<div id=\"_auto10\"></div>\n",
    "\n",
    "$$\n",
    "\\begin{equation}\n",
    "  \\hat{H}_{ee} = \\sum_{i < j}^{N} v_{E}\\left( \\mathbf{r}_{i}-\\mathbf{r}_{j}\\right)\n",
    "  + \\frac{1}{2}Nv_{0},\n",
    "\\label{_auto10} \\tag{13}\n",
    "\\end{equation}\n",
    "$$"
   ]
  },
  {
   "cell_type": "markdown",
   "metadata": {},
   "source": [
    "where $v_{E}(\\mathbf{r})$ is the effective two-body \n",
    "interaction and $v_{0}$ is the self-interaction, defined \n",
    "as $v_{0} = \\lim_{\\mathbf{r} \\rightarrow 0} \\left\\{ v_{E}(\\mathbf{r}) - 1/r\\right\\} $. \n",
    "\n",
    "The negative \n",
    "electron charges are neutralized by a positive, homogeneous \n",
    "background charge. Fraser *et al.* explain how the\n",
    "electron-background and background-background terms, \n",
    "$\\hat{H}_{eb}$ and $\\hat{H}_{bb}$, vanish\n",
    "when using Ewald's interaction for the three-dimensional\n",
    "electron gas. Using the same arguments, one can show that\n",
    "these terms are also zero in the corresponding \n",
    "two-dimensional system. \n",
    "\n",
    "\n",
    "\n",
    "\n",
    "## Ewald correction term\n",
    "\n",
    "In the three-dimensional electron gas, the Ewald \n",
    "interaction is"
   ]
  },
  {
   "cell_type": "markdown",
   "metadata": {},
   "source": [
    "$$\n",
    "v_{E}(\\mathbf{r}) = \\sum_{\\mathbf{k} \\neq \\mathbf{0}}\n",
    "  \\frac{4\\pi }{L^{3}k^{2}}e^{i\\mathbf{k}\\cdot \\mathbf{r}}\n",
    "  e^{-\\eta^{2}k^{2}/4} \\nonumber\n",
    "$$"
   ]
  },
  {
   "cell_type": "markdown",
   "metadata": {},
   "source": [
    "<!-- Equation labels as ordinary links -->\n",
    "<div id=\"_auto11\"></div>\n",
    "\n",
    "$$\n",
    "\\begin{equation} \n",
    "  + \\sum_{\\mathbf{R}}\\frac{1}{\\left| \\mathbf{r}\n",
    "    -\\mathbf{R}\\right| } \\mathrm{erfc} \\left( \\frac{\\left| \n",
    "    \\mathbf{r}-\\mathbf{R}\\right|}{\\eta }\\right)\n",
    "  - \\frac{\\pi \\eta^{2}}{L^{3}},\n",
    "\\label{_auto11} \\tag{14}\n",
    "\\end{equation}\n",
    "$$"
   ]
  },
  {
   "cell_type": "markdown",
   "metadata": {},
   "source": [
    "where $L$ is the box side length, $\\mathrm{erfc}(x)$ is the \n",
    "complementary error function, and $\\eta $ is a free\n",
    "parameter that can take any value in the interval \n",
    "$(0, \\infty )$.\n",
    "\n",
    "\n",
    "\n",
    "## Interaction in momentum space\n",
    "\n",
    "The translational vector"
   ]
  },
  {
   "cell_type": "markdown",
   "metadata": {},
   "source": [
    "<!-- Equation labels as ordinary links -->\n",
    "<div id=\"_auto12\"></div>\n",
    "\n",
    "$$\n",
    "\\begin{equation}\n",
    "  \\mathbf{R} = L\\left(n_{x}\\mathbf{u}_{x} + n_{y}\n",
    "  \\mathbf{u}_{y} + n_{z}\\mathbf{u}_{z}\\right) ,\n",
    "\\label{_auto12} \\tag{15}\n",
    "\\end{equation}\n",
    "$$"
   ]
  },
  {
   "cell_type": "markdown",
   "metadata": {},
   "source": [
    "where $\\mathbf{u}_{i}$ is the unit vector for dimension $i$,\n",
    "is defined for all integers $n_{x}$, $n_{y}$, and \n",
    "$n_{z}$. These vectors are used to obtain all image\n",
    "cells in the entire real space. \n",
    "The parameter $\\eta $ decides how \n",
    "the Coulomb interaction is divided into a short-ranged\n",
    "and long-ranged part, and does not alter the total\n",
    "function. However, the number of operations needed\n",
    "to calculate the Ewald interaction with a desired \n",
    "accuracy depends on $\\eta $, and $\\eta $ is therefore \n",
    "often chosen to optimize the convergence as a function\n",
    "of the simulation-cell size. In\n",
    "our calculations, we choose $\\eta $ to be an infinitesimally\n",
    "small positive number, similarly as was done by [Shepherd *et al.*](https://journals.aps.org/prb/abstract/10.1103/PhysRevB.86.035111) and [Roggero *et al.*](https://journals.aps.org/prb/abstract/10.1103/PhysRevB.88.115138).\n",
    "\n",
    "This gives an interaction that is evaluated only in\n",
    "Fourier space. \n",
    "\n",
    "When studying the two-dimensional electron gas, we\n",
    "use an Ewald interaction that is quasi two-dimensional.\n",
    "The interaction is derived in three dimensions, with \n",
    "Fourier discretization in only two dimensions. The Ewald effective\n",
    "interaction has the form"
   ]
  },
  {
   "cell_type": "markdown",
   "metadata": {},
   "source": [
    "$$\n",
    "v_{E}(\\mathbf{r}) = \\sum_{\\mathbf{k} \\neq \\mathbf{0}} \n",
    "  \\frac{\\pi }{L^{2}k}\\left\\{ e^{-kz} \\mathrm{erfc} \\left(\n",
    "  \\frac{\\eta k}{2} - \\frac{z}{\\eta }\\right)+ \\right. \\nonumber\n",
    "$$"
   ]
  },
  {
   "cell_type": "markdown",
   "metadata": {},
   "source": [
    "$$\n",
    "\\left. e^{kz}\\mathrm{erfc} \\left( \\frac{\\eta k}{2} + \\frac{z}{\\eta }\n",
    "  \\right) \\right\\} e^{i\\mathbf{k}\\cdot \\mathbf{r}_{xy}} \n",
    "  \\nonumber\n",
    "$$"
   ]
  },
  {
   "cell_type": "markdown",
   "metadata": {},
   "source": [
    "$$\n",
    "+ \\sum_{\\mathbf{R}}\\frac{1}{\\left| \\mathbf{r}-\\mathbf{R}\n",
    "    \\right| } \\mathrm{erfc} \\left( \\frac{\\left| \\mathbf{r}-\\mathbf{R}\n",
    "    \\right|}{\\eta }\\right) \\nonumber\n",
    "$$"
   ]
  },
  {
   "cell_type": "markdown",
   "metadata": {},
   "source": [
    "<!-- Equation labels as ordinary links -->\n",
    "<div id=\"_auto13\"></div>\n",
    "\n",
    "$$\n",
    "\\begin{equation} \n",
    "   - \\frac{2\\pi}{L^{2}}\\left\\{ z\\mathrm{erf} \\left( \\frac{z}{\\eta }\n",
    "  \\right) + \\frac{\\eta }{\\sqrt{\\pi }}e^{-z^{2}/\\eta^{2}}\\right\\},\n",
    "\\label{_auto13} \\tag{16}\n",
    "\\end{equation}\n",
    "$$"
   ]
  },
  {
   "cell_type": "markdown",
   "metadata": {},
   "source": [
    "where the Fourier vectors $\\mathbf{k}$ and the position vector\n",
    "$\\mathbf{r}_{xy}$ are defined in the $(x,y)$ plane. When\n",
    "applying the interaction $v_{E}(\\mathbf{r})$ to two-dimensional\n",
    "systems, we set $z$ to zero. \n",
    "\n",
    "\n",
    "Similarly as in the \n",
    "three-dimensional case, also here we \n",
    "choose $\\eta $ to approach zero from above. The resulting \n",
    "Fourier-transformed interaction is"
   ]
  },
  {
   "cell_type": "markdown",
   "metadata": {},
   "source": [
    "<!-- Equation labels as ordinary links -->\n",
    "<div id=\"_auto14\"></div>\n",
    "\n",
    "$$\n",
    "\\begin{equation}\n",
    "  v_{E}^{\\eta = 0, z = 0}(\\mathbf{r}) = \\sum_{\\mathbf{k} \\neq \\mathbf{0}} \n",
    "  \\frac{2\\pi }{L^{2}k}e^{i\\mathbf{k}\\cdot \\mathbf{r}_{xy}}. \n",
    "\\label{_auto14} \\tag{17}\n",
    "\\end{equation}\n",
    "$$"
   ]
  },
  {
   "cell_type": "markdown",
   "metadata": {},
   "source": [
    "The self-interaction $v_{0}$ is a constant that can be \n",
    "included in the reference energy.\n",
    "\n",
    "\n",
    "\n",
    "\n",
    "## Antisymmetrized matrix elements in three dimensions\n",
    "\n",
    "In the three-dimensional electron gas, the antisymmetrized\n",
    "matrix elements are"
   ]
  },
  {
   "cell_type": "markdown",
   "metadata": {},
   "source": [
    "<!-- Equation labels as ordinary links -->\n",
    "<div id=\"eq:vmat_3dheg\"></div>\n",
    "\n",
    "$$\n",
    "\\label{eq:vmat_3dheg} \\tag{18}\n",
    "   \\langle \\mathbf{k}_{p}m_{s_{p}}\\mathbf{k}_{q}m_{s_{q}}\n",
    "  |\\tilde{v}|\\mathbf{k}_{r}m_{s_{r}}\\mathbf{k}_{s}m_{s_{s}}\\rangle_{AS} \n",
    "  \\nonumber\n",
    "$$"
   ]
  },
  {
   "cell_type": "markdown",
   "metadata": {},
   "source": [
    "$$\n",
    "= \\frac{4\\pi }{L^{3}}\\delta_{\\mathbf{k}_{p}+\\mathbf{k}_{q},\n",
    "    \\mathbf{k}_{r}+\\mathbf{k}_{s}}\\left\\{ \n",
    "  \\delta_{m_{s_{p}}m_{s_{r}}}\\delta_{m_{s_{q}}m_{s_{s}}}\n",
    "  \\left( 1 - \\delta_{\\mathbf{k}_{p}\\mathbf{k}_{r}}\\right) \n",
    "  \\frac{1}{|\\mathbf{k}_{r}-\\mathbf{k}_{p}|^{2}}\n",
    "  \\right. \\nonumber\n",
    "$$"
   ]
  },
  {
   "cell_type": "markdown",
   "metadata": {},
   "source": [
    "<!-- Equation labels as ordinary links -->\n",
    "<div id=\"_auto15\"></div>\n",
    "\n",
    "$$\n",
    "\\begin{equation} \n",
    "   \\left. - \\delta_{m_{s_{p}}m_{s_{s}}}\\delta_{m_{s_{q}}m_{s_{r}}}\n",
    "  \\left( 1 - \\delta_{\\mathbf{k}_{p}\\mathbf{k}_{s}} \\right)\n",
    "  \\frac{1}{|\\mathbf{k}_{s}-\\mathbf{k}_{p}|^{2}} \n",
    "  \\right\\} ,\n",
    "\\label{_auto15} \\tag{19}\n",
    "\\end{equation}\n",
    "$$"
   ]
  },
  {
   "cell_type": "markdown",
   "metadata": {},
   "source": [
    "where the Kronecker delta functions \n",
    "$\\delta_{\\mathbf{k}_{p}\\mathbf{k}_{r}}$ and\n",
    "$\\delta_{\\mathbf{k}_{p}\\mathbf{k}_{s}}$ ensure that the \n",
    "contribution with zero momentum transfer vanishes.\n",
    "\n",
    "\n",
    "Similarly, the matrix elements for the two-dimensional\n",
    "electron gas are"
   ]
  },
  {
   "cell_type": "markdown",
   "metadata": {},
   "source": [
    "<!-- Equation labels as ordinary links -->\n",
    "<div id=\"eq:vmat_2dheg\"></div>\n",
    "\n",
    "$$\n",
    "\\label{eq:vmat_2dheg} \\tag{20}\n",
    "   \\langle \\mathbf{k}_{p}m_{s_{p}}\\mathbf{k}_{q}m_{s_{q}}\n",
    "  |v|\\mathbf{k}_{r}m_{s_{r}}\\mathbf{k}_{s}m_{s_{s}}\\rangle_{AS} \n",
    "  \\nonumber\n",
    "$$"
   ]
  },
  {
   "cell_type": "markdown",
   "metadata": {},
   "source": [
    "$$\n",
    "= \\frac{2\\pi }{L^{2}}\n",
    "  \\delta_{\\mathbf{k}_{p}+\\mathbf{k}_{q},\\mathbf{k}_{r}+\\mathbf{k}_{s}}\n",
    "  \\left\\{ \\delta_{m_{s_{p}}m_{s_{r}}}\\delta_{m_{s_{q}}m_{s_{s}}} \n",
    "  \\left( 1 - \\delta_{\\mathbf{k}_{p}\\mathbf{k}_{r}}\\right)\n",
    "  \\frac{1}{\n",
    "    |\\mathbf{k}_{r}-\\mathbf{k}_{p}|} \\right.\n",
    "  \\nonumber\n",
    "$$"
   ]
  },
  {
   "cell_type": "markdown",
   "metadata": {},
   "source": [
    "<!-- Equation labels as ordinary links -->\n",
    "<div id=\"_auto16\"></div>\n",
    "\n",
    "$$\n",
    "\\begin{equation} \n",
    "   - \\left. \\delta_{m_{s_{p}}m_{s_{s}}}\\delta_{m_{s_{q}}m_{s_{r}}}\n",
    "  \\left( 1 - \\delta_{\\mathbf{k}_{p}\\mathbf{k}_{s}}\\right)\n",
    "  \\frac{1}{ \n",
    "    |\\mathbf{k}_{s}-\\mathbf{k}_{p}|}\n",
    "  \\right\\} ,\n",
    "\\label{_auto16} \\tag{21}\n",
    "\\end{equation}\n",
    "$$"
   ]
  },
  {
   "cell_type": "markdown",
   "metadata": {},
   "source": [
    "where the single-particle momentum vectors $\\mathbf{k}_{p,q,r,s}$\n",
    "are now defined in two dimensions.\n",
    "\n",
    "In actual  calculations, the \n",
    "single-particle energies, defined by the operator $\\hat{f}$, are given by"
   ]
  },
  {
   "cell_type": "markdown",
   "metadata": {},
   "source": [
    "<!-- Equation labels as ordinary links -->\n",
    "<div id=\"eq:fock_heg\"></div>\n",
    "\n",
    "$$\n",
    "\\begin{equation}\n",
    "  \\langle \\mathbf{k}_{p}|f|\\mathbf{k}_{q} \\rangle\n",
    "  = \\frac{\\hbar^{2}k_{p}^{2}}{2m}\\delta_{\\mathbf{k}_{p},\n",
    "  \\mathbf{k}_{q}} + \\sum_{\\mathbf{k}_{i}}\\langle \n",
    "  \\mathbf{k}_{p}\\mathbf{k}_{i}|v|\\mathbf{k}_{q}\n",
    "  \\mathbf{k}_{i}\\rangle_{AS}.\n",
    "\\label{eq:fock_heg} \\tag{22}\n",
    "\\end{equation}\n",
    "$$"
   ]
  },
  {
   "cell_type": "markdown",
   "metadata": {},
   "source": [
    "## Periodic boundary conditions and single-particle states\n",
    "\n",
    "When using periodic boundary conditions, the \n",
    "discrete-momentum single-particle basis functions"
   ]
  },
  {
   "cell_type": "markdown",
   "metadata": {},
   "source": [
    "$$\n",
    "\\phi_{\\mathbf{k}}(\\mathbf{r}) =\n",
    "e^{i\\mathbf{k}\\cdot \\mathbf{r}}/L^{d/2}\n",
    "$$"
   ]
  },
  {
   "cell_type": "markdown",
   "metadata": {},
   "source": [
    "are associated with \n",
    "the single-particle energy"
   ]
  },
  {
   "cell_type": "markdown",
   "metadata": {},
   "source": [
    "<!-- Equation labels as ordinary links -->\n",
    "<div id=\"_auto17\"></div>\n",
    "\n",
    "$$\n",
    "\\begin{equation}\n",
    "  \\varepsilon_{n_{x}, n_{y}} = \\frac{\\hbar^{2}}{2m} \\left( \\frac{2\\pi }{L}\\right)^{2}\\left( n_{x}^{2} + n_{y}^{2}\\right)\n",
    "\\label{_auto17} \\tag{23}\n",
    "\\end{equation}\n",
    "$$"
   ]
  },
  {
   "cell_type": "markdown",
   "metadata": {},
   "source": [
    "for two-dimensional sytems and"
   ]
  },
  {
   "cell_type": "markdown",
   "metadata": {},
   "source": [
    "<!-- Equation labels as ordinary links -->\n",
    "<div id=\"_auto18\"></div>\n",
    "\n",
    "$$\n",
    "\\begin{equation}\n",
    "  \\varepsilon_{n_{x}, n_{y}, n_{z}} = \\frac{\\hbar^{2}}{2m}\n",
    "  \\left( \\frac{2\\pi }{L}\\right)^{2}\n",
    "  \\left( n_{x}^{2} + n_{y}^{2} + n_{z}^{2}\\right)\n",
    "\\label{_auto18} \\tag{24}\n",
    "\\end{equation}\n",
    "$$"
   ]
  },
  {
   "cell_type": "markdown",
   "metadata": {},
   "source": [
    "for three-dimensional systems.\n",
    "\n",
    "\n",
    "We choose  the single-particle basis such that both the occupied and \n",
    "unoccupied single-particle spaces have a closed-shell \n",
    "structure. This means that all single-particle states \n",
    "corresponding to energies below a chosen cutoff are\n",
    "included in the basis. We study only the unpolarized spin\n",
    "phase, in which all orbitals are occupied with one spin-up \n",
    "and one spin-down electron. \n",
    "\n",
    "\n",
    "The table illustrates  how single-particle energies\n",
    "    fill energy shells in a two-dimensional electron box.\n",
    "  Here $n_{x}$ and $n_{y}$ are the momentum quantum numbers,\n",
    "  $n_{x}^{2} + n_{y}^{2}$ determines the single-particle \n",
    "  energy level, $N_{\\uparrow \\downarrow }$ represents the \n",
    "  cumulated number of spin-orbitals in an unpolarized spin\n",
    "  phase, and $N_{\\uparrow \\uparrow }$ stands for the\n",
    "  cumulated number of spin-orbitals in a spin-polarized\n",
    "  system.\n",
    "\n",
    "\n",
    "\n",
    "\n",
    "## Magic numbers for the two-dimensional electron gas\n",
    "\n",
    "\n",
    "<table border=\"1\">\n",
    "<thead>\n",
    "<tr><th align=\"center\">$n_{x}^{2}+n_{y}^{2}$</th> <th align=\"center\">$n_{x}$</th> <th align=\"center\">$n_{y}$</th> <th align=\"center\">$N_{\\uparrow \\downarrow }$</th> <th align=\"center\">$N_{\\uparrow \\uparrow }$</th> </tr>\n",
    "</thead>\n",
    "<tbody>\n",
    "<tr><td align=\"center\">   0                        </td> <td align=\"center\">   0          </td> <td align=\"center\">   0          </td> <td align=\"center\">   2                             </td> <td align=\"center\">   1                           </td> </tr>\n",
    "<tr><td align=\"center\">   1                        </td> <td align=\"center\">   -1         </td> <td align=\"center\">   0          </td> <td align=\"center\">                                 </td> <td align=\"center\">                               </td> </tr>\n",
    "<tr><td align=\"center\">                            </td> <td align=\"center\">   1          </td> <td align=\"center\">   0          </td> <td align=\"center\">                                 </td> <td align=\"center\">                               </td> </tr>\n",
    "<tr><td align=\"center\">                            </td> <td align=\"center\">   0          </td> <td align=\"center\">   -1         </td> <td align=\"center\">                                 </td> <td align=\"center\">                               </td> </tr>\n",
    "<tr><td align=\"center\">                            </td> <td align=\"center\">   0          </td> <td align=\"center\">   1          </td> <td align=\"center\">   10                            </td> <td align=\"center\">   5                           </td> </tr>\n",
    "<tr><td align=\"center\">   2                        </td> <td align=\"center\">   -1         </td> <td align=\"center\">   -1         </td> <td align=\"center\">                                 </td> <td align=\"center\">                               </td> </tr>\n",
    "<tr><td align=\"center\">                            </td> <td align=\"center\">   -1         </td> <td align=\"center\">   1          </td> <td align=\"center\">                                 </td> <td align=\"center\">                               </td> </tr>\n",
    "<tr><td align=\"center\">                            </td> <td align=\"center\">   1          </td> <td align=\"center\">   -1         </td> <td align=\"center\">                                 </td> <td align=\"center\">                               </td> </tr>\n",
    "<tr><td align=\"center\">                            </td> <td align=\"center\">   1          </td> <td align=\"center\">   1          </td> <td align=\"center\">   18                            </td> <td align=\"center\">   9                           </td> </tr>\n",
    "<tr><td align=\"center\">   4                        </td> <td align=\"center\">   -2         </td> <td align=\"center\">   0          </td> <td align=\"center\">                                 </td> <td align=\"center\">                               </td> </tr>\n",
    "<tr><td align=\"center\">                            </td> <td align=\"center\">   2          </td> <td align=\"center\">   0          </td> <td align=\"center\">                                 </td> <td align=\"center\">                               </td> </tr>\n",
    "<tr><td align=\"center\">                            </td> <td align=\"center\">   0          </td> <td align=\"center\">   -2         </td> <td align=\"center\">                                 </td> <td align=\"center\">                               </td> </tr>\n",
    "<tr><td align=\"center\">                            </td> <td align=\"center\">   0          </td> <td align=\"center\">   2          </td> <td align=\"center\">   26                            </td> <td align=\"center\">   13                          </td> </tr>\n",
    "<tr><td align=\"center\">   5                        </td> <td align=\"center\">   -2         </td> <td align=\"center\">   -1         </td> <td align=\"center\">                                 </td> <td align=\"center\">                               </td> </tr>\n",
    "<tr><td align=\"center\">                            </td> <td align=\"center\">   2          </td> <td align=\"center\">   -1         </td> <td align=\"center\">                                 </td> <td align=\"center\">                               </td> </tr>\n",
    "<tr><td align=\"center\">                            </td> <td align=\"center\">   -2         </td> <td align=\"center\">   1          </td> <td align=\"center\">                                 </td> <td align=\"center\">                               </td> </tr>\n",
    "<tr><td align=\"center\">                            </td> <td align=\"center\">   2          </td> <td align=\"center\">   1          </td> <td align=\"center\">                                 </td> <td align=\"center\">                               </td> </tr>\n",
    "<tr><td align=\"center\">                            </td> <td align=\"center\">   -1         </td> <td align=\"center\">   -2         </td> <td align=\"center\">                                 </td> <td align=\"center\">                               </td> </tr>\n",
    "<tr><td align=\"center\">                            </td> <td align=\"center\">   -1         </td> <td align=\"center\">   2          </td> <td align=\"center\">                                 </td> <td align=\"center\">                               </td> </tr>\n",
    "<tr><td align=\"center\">                            </td> <td align=\"center\">   1          </td> <td align=\"center\">   -2         </td> <td align=\"center\">                                 </td> <td align=\"center\">                               </td> </tr>\n",
    "<tr><td align=\"center\">                            </td> <td align=\"center\">   1          </td> <td align=\"center\">   2          </td> <td align=\"center\">   42                            </td> <td align=\"center\">   21                          </td> </tr>\n",
    "</tbody>\n",
    "</table>\n",
    "## Hartree-Fock energies\n",
    "\n",
    "Finally, a useful benchmark for our calculations is the expression for\n",
    "the reference energy $E_0$ per particle.\n",
    "Defining the $T=0$ density $\\rho_0$, we can in turn determine in three\n",
    "dimensions the radius $r_0$ of a sphere representing the volume an\n",
    "electron occupies (the classical electron radius) as"
   ]
  },
  {
   "cell_type": "markdown",
   "metadata": {},
   "source": [
    "$$\n",
    "r_0= \\left(\\frac{3}{4\\pi \\rho}\\right)^{1/3}.\n",
    "$$"
   ]
  },
  {
   "cell_type": "markdown",
   "metadata": {},
   "source": [
    "In two dimensions the corresponding quantity is"
   ]
  },
  {
   "cell_type": "markdown",
   "metadata": {},
   "source": [
    "$$\n",
    "r_0= \\left(\\frac{1}{\\pi \\rho}\\right)^{1/2}.\n",
    "$$"
   ]
  },
  {
   "cell_type": "markdown",
   "metadata": {},
   "source": [
    "One can then express the reference energy per electron in terms of the\n",
    "dimensionless quantity $r_s=r_0/a_0$, where we have introduced the\n",
    "Bohr radius $a_0=\\hbar^2/e^2m$. The energy per electron computed with\n",
    "the reference Slater determinant can then be written as\n",
    "(using hereafter only atomic units, meaning that $\\hbar = m = e = 1$)"
   ]
  },
  {
   "cell_type": "markdown",
   "metadata": {},
   "source": [
    "$$\n",
    "g\n",
    "E_0/N=\\frac{1}{2}\\left[\\frac{2.21}{r_s^2}-\\frac{0.916}{r_s}\\right],\n",
    "$$"
   ]
  },
  {
   "cell_type": "markdown",
   "metadata": {},
   "source": [
    "for the three-dimensional electron gas.  For the two-dimensional gas\n",
    "the corresponding expression is (show this)"
   ]
  },
  {
   "cell_type": "markdown",
   "metadata": {},
   "source": [
    "$$\n",
    "E_0/N=\\frac{1}{r_s^2}-\\frac{8\\sqrt{2}}{3\\pi r_s}.a\n",
    "$$"
   ]
  },
  {
   "cell_type": "markdown",
   "metadata": {},
   "source": [
    "For an infinite homogeneous system, there are some particular\n",
    "simplications due to the conservation of the total momentum of the\n",
    "particles.  By symmetry considerations, the total momentum of the\n",
    "system has to be zero. Both the kinetic energy operator and the\n",
    "total Hamiltonian $\\hat{H}$ are assumed to be diagonal in the total\n",
    "momentum $\\mathbf{K}$. Hence, both the reference state $\\Phi_{0}$ and\n",
    "the correlated ground state $\\Psi$ must be eigenfunctions of the\n",
    "operator $\\mathbf{\\hat{K}}$ with the corresponding eigemnvalue\n",
    "$\\mathbf{K} = \\mathbf{0}$.  This leads to important\n",
    "simplications to our different many-body methods. In coupled cluster\n",
    "theory for example, all\n",
    "terms that involve single particle-hole excitations vanish. \n",
    "\n",
    "\n",
    "\n",
    "<!-- --- begin exercise --- -->\n",
    "\n",
    "## Exercise 3: Magic numbers for the three-dimensional electron gas and perturbation theory to second order\n",
    "\n",
    "\n",
    "**a)**\n",
    "Set up the possible magic numbers for the electron gas in three dimensions using periodic boundary conditions..\n",
    "\n",
    "<!-- --- begin hint in exercise --- -->\n",
    "\n",
    "**Hint.**\n",
    "Follow the example for the two-dimensional electron gas and add the third dimension via the quantum number $n_z$.\n",
    "\n",
    "<!-- --- end hint in exercise --- -->\n",
    "\n",
    "\n",
    "<!-- --- begin solution of exercise --- -->\n",
    "**Solution.**\n",
    "Using the same approach as made with the two-dimensional electron gas with the single-particle kinetic energy defined as"
   ]
  },
  {
   "cell_type": "markdown",
   "metadata": {},
   "source": [
    "$$\n",
    "\\frac{\\hbar^2}{2m}\\left(k_{n_x}^2+k_{n_y}^2k_{n_z}^2\\right),\n",
    "$$"
   ]
  },
  {
   "cell_type": "markdown",
   "metadata": {},
   "source": [
    "and"
   ]
  },
  {
   "cell_type": "markdown",
   "metadata": {},
   "source": [
    "$$\n",
    "k_{n_i}=\\frac{2\\pi n_i}{L} \\hspace{0.1cm} n_i = 0, \\pm 1, \\pm 2, \\dots,\n",
    "$$"
   ]
  },
  {
   "cell_type": "markdown",
   "metadata": {},
   "source": [
    "we can set up a similar table and obtain (assuming identical particles one and including spin up and spin down solutions)  for energies less than or equal to $n_{x}^{2}+n_{y}^{2}+n_{z}^{2}\\le 3$\n",
    "\n",
    "<table border=\"1\">\n",
    "<thead>\n",
    "<tr><th align=\"center\">$n_{x}^{2}+n_{y}^{2}+n_{z}^{2}$</th> <th align=\"center\">$n_{x}$</th> <th align=\"center\">$n_{y}$</th> <th align=\"center\">$n_{z}$</th> <th align=\"center\">$N_{\\uparrow \\downarrow }$</th> </tr>\n",
    "</thead>\n",
    "<tbody>\n",
    "<tr><td align=\"center\">   0                                  </td> <td align=\"center\">   0          </td> <td align=\"center\">   0          </td> <td align=\"center\">   0          </td> <td align=\"center\">   2                             </td> </tr>\n",
    "<tr><td align=\"center\">   1                                  </td> <td align=\"center\">   -1         </td> <td align=\"center\">   0          </td> <td align=\"center\">   0          </td> <td align=\"center\">                                 </td> </tr>\n",
    "<tr><td align=\"center\">   1                                  </td> <td align=\"center\">   1          </td> <td align=\"center\">   0          </td> <td align=\"center\">   0          </td> <td align=\"center\">                                 </td> </tr>\n",
    "<tr><td align=\"center\">   1                                  </td> <td align=\"center\">   0          </td> <td align=\"center\">   -1         </td> <td align=\"center\">   0          </td> <td align=\"center\">                                 </td> </tr>\n",
    "<tr><td align=\"center\">   1                                  </td> <td align=\"center\">   0          </td> <td align=\"center\">   1          </td> <td align=\"center\">   0          </td> <td align=\"center\">                                 </td> </tr>\n",
    "<tr><td align=\"center\">   1                                  </td> <td align=\"center\">   0          </td> <td align=\"center\">   0          </td> <td align=\"center\">   -1         </td> <td align=\"center\">                                 </td> </tr>\n",
    "<tr><td align=\"center\">   1                                  </td> <td align=\"center\">   0          </td> <td align=\"center\">   0          </td> <td align=\"center\">   1          </td> <td align=\"center\">   14                            </td> </tr>\n",
    "<tr><td align=\"center\">   2                                  </td> <td align=\"center\">   -1         </td> <td align=\"center\">   -1         </td> <td align=\"center\">   0          </td> <td align=\"center\">                                 </td> </tr>\n",
    "<tr><td align=\"center\">   2                                  </td> <td align=\"center\">   -1         </td> <td align=\"center\">   1          </td> <td align=\"center\">   0          </td> <td align=\"center\">                                 </td> </tr>\n",
    "<tr><td align=\"center\">   2                                  </td> <td align=\"center\">   1          </td> <td align=\"center\">   -1         </td> <td align=\"center\">   0          </td> <td align=\"center\">                                 </td> </tr>\n",
    "<tr><td align=\"center\">   2                                  </td> <td align=\"center\">   1          </td> <td align=\"center\">   1          </td> <td align=\"center\">   0          </td> <td align=\"center\">                                 </td> </tr>\n",
    "<tr><td align=\"center\">   2                                  </td> <td align=\"center\">   -1         </td> <td align=\"center\">   0          </td> <td align=\"center\">   -1         </td> <td align=\"center\">                                 </td> </tr>\n",
    "<tr><td align=\"center\">   2                                  </td> <td align=\"center\">   -1         </td> <td align=\"center\">   0          </td> <td align=\"center\">   1          </td> <td align=\"center\">                                 </td> </tr>\n",
    "<tr><td align=\"center\">   2                                  </td> <td align=\"center\">   1          </td> <td align=\"center\">   0          </td> <td align=\"center\">   -1         </td> <td align=\"center\">                                 </td> </tr>\n",
    "<tr><td align=\"center\">   2                                  </td> <td align=\"center\">   1          </td> <td align=\"center\">   0          </td> <td align=\"center\">   1          </td> <td align=\"center\">                                 </td> </tr>\n",
    "<tr><td align=\"center\">   2                                  </td> <td align=\"center\">   0          </td> <td align=\"center\">   -1         </td> <td align=\"center\">   -1         </td> <td align=\"center\">                                 </td> </tr>\n",
    "<tr><td align=\"center\">   2                                  </td> <td align=\"center\">   0          </td> <td align=\"center\">   -1         </td> <td align=\"center\">   1          </td> <td align=\"center\">                                 </td> </tr>\n",
    "<tr><td align=\"center\">   2                                  </td> <td align=\"center\">   0          </td> <td align=\"center\">   1          </td> <td align=\"center\">   -1         </td> <td align=\"center\">                                 </td> </tr>\n",
    "<tr><td align=\"center\">   2                                  </td> <td align=\"center\">   0          </td> <td align=\"center\">   1          </td> <td align=\"center\">   1          </td> <td align=\"center\">   38                            </td> </tr>\n",
    "<tr><td align=\"center\">   3                                  </td> <td align=\"center\">   -1         </td> <td align=\"center\">   -1         </td> <td align=\"center\">   -1         </td> <td align=\"center\">                                 </td> </tr>\n",
    "<tr><td align=\"center\">   3                                  </td> <td align=\"center\">   -1         </td> <td align=\"center\">   -1         </td> <td align=\"center\">   1          </td> <td align=\"center\">                                 </td> </tr>\n",
    "<tr><td align=\"center\">   3                                  </td> <td align=\"center\">   -1         </td> <td align=\"center\">   1          </td> <td align=\"center\">   -1         </td> <td align=\"center\">                                 </td> </tr>\n",
    "<tr><td align=\"center\">   3                                  </td> <td align=\"center\">   -1         </td> <td align=\"center\">   1          </td> <td align=\"center\">   1          </td> <td align=\"center\">                                 </td> </tr>\n",
    "<tr><td align=\"center\">   3                                  </td> <td align=\"center\">   1          </td> <td align=\"center\">   -1         </td> <td align=\"center\">   -1         </td> <td align=\"center\">                                 </td> </tr>\n",
    "<tr><td align=\"center\">   3                                  </td> <td align=\"center\">   1          </td> <td align=\"center\">   -1         </td> <td align=\"center\">   1          </td> <td align=\"center\">                                 </td> </tr>\n",
    "<tr><td align=\"center\">   3                                  </td> <td align=\"center\">   1          </td> <td align=\"center\">   1          </td> <td align=\"center\">   -1         </td> <td align=\"center\">                                 </td> </tr>\n",
    "<tr><td align=\"center\">   3                                  </td> <td align=\"center\">   1          </td> <td align=\"center\">   1          </td> <td align=\"center\">   1          </td> <td align=\"center\">   54                            </td> </tr>\n",
    "</tbody>\n",
    "</table>\n",
    "Continuing in this way we get for $n_{x}^{2}+n_{y}^{2}+n_{z}^{2}=4$  a total of 22 additional states, resulting in $76$ as a new magic number. For the lowest six energy values the degeneracy in energy gives us $2$, $14$, $38$, $54$, $76$ and $114$ as magic numbers. These numbers will then define our Fermi level when we compute the energy in a Cartesian basis. When performing calculations based on many-body perturbation theory, Coupled cluster theory or other many-body methods, we need then to add states above the Fermi level in order to sum over single-particle states which are not occupied.  \n",
    "\n",
    "If we wish to study infinite nuclear matter with both protons and neutrons, the above magic numbers become $4, 28, 76, 108, 132, 228, \\dots$.\n",
    "\n",
    "<!-- --- end solution of exercise --- -->\n",
    "\n",
    "**b)**\n",
    "Every number of particles for filled shells defines also the number of particles to be used in a given calculation. Use the number of particles to define  the density of the system"
   ]
  },
  {
   "cell_type": "markdown",
   "metadata": {},
   "source": [
    "$$\n",
    "\\rho = g \\frac{k_F^3}{6\\pi^2},\n",
    "$$"
   ]
  },
  {
   "cell_type": "markdown",
   "metadata": {},
   "source": [
    "where you need to define $k_F$ and the degeneracy $g$, which is two for one type of spin-$1/2$ particles and four for symmetric nuclear matter.\n",
    "\n",
    "**c)**\n",
    "Use the density to find the length $L$ of the box used with periodic boundary contributions, that is use the relation"
   ]
  },
  {
   "cell_type": "markdown",
   "metadata": {},
   "source": [
    "$$\n",
    "V= L^3= \\frac{A}{\\rho}.\n",
    "$$"
   ]
  },
  {
   "cell_type": "markdown",
   "metadata": {},
   "source": [
    "You can use $L$ to define the spacing to set up the spacing between varipus $k$-values, that is"
   ]
  },
  {
   "cell_type": "markdown",
   "metadata": {},
   "source": [
    "$$\n",
    "\\Delta k = \\frac{2\\pi}{L}.\n",
    "$$"
   ]
  },
  {
   "cell_type": "markdown",
   "metadata": {},
   "source": [
    "Here, $A$ can be the number of nucleons. If we deal with the electron gas only,  this needs to be replaced by  the number of electrons $N$.\n",
    "\n",
    "**d)**\n",
    "Calculate thereafter the Hartree-Fock total energy for the electron gas or infinite nuclear matter using the Minnesota interaction discussed during the lectures. Compare the results with the exact Hartree-Fock results  for the electron gas as a function of the number of particles.\n",
    "\n",
    "**e)**\n",
    "Compute now the contribution to the correlation energy for the electron gas at the level of second-order perturbation theory using a given number of electrons $N$ and a given (defined by you) number of single-particle states above the Fermi level.\n",
    "The following Python code shows an implementation for the electron gas in three dimensions for second perturbation theory using the Coulomb interaction. Here we have hard-coded a case which computes the energy for $N=14$ and a total of $5$ major shells.\n",
    "\n",
    "\n",
    "<!-- --- begin solution of exercise --- -->\n",
    "**Solution.**"
   ]
  },
  {
   "cell_type": "code",
   "execution_count": 2,
   "metadata": {
    "collapsed": false
   },
   "outputs": [
    {
     "ename": "SyntaxError",
     "evalue": "Missing parentheses in call to 'print'. Did you mean print(print \"Not enough basis states.\")? (<ipython-input-2-324277fb8e47>, line 59)",
     "output_type": "error",
     "traceback": [
      "\u001b[0;36m  File \u001b[0;32m\"<ipython-input-2-324277fb8e47>\"\u001b[0;36m, line \u001b[0;32m59\u001b[0m\n\u001b[0;31m    print \"Not enough basis states.\"\u001b[0m\n\u001b[0m                                   ^\u001b[0m\n\u001b[0;31mSyntaxError\u001b[0m\u001b[0;31m:\u001b[0m Missing parentheses in call to 'print'. Did you mean print(print \"Not enough basis states.\")?\n"
     ]
    }
   ],
   "source": [
    "from numpy import *\n",
    "\n",
    "class electronbasis():\n",
    "    def __init__(self, N, rs, Nparticles):\n",
    "        ############################################################\n",
    "        ##\n",
    "        ##  Initialize basis: \n",
    "        ##  N = number of shells\n",
    "        ##  rs = parameter for volume \n",
    "        ##  Nparticles = Number of holes (conflicting naming, sorry)\n",
    "        ##\n",
    "        ###########################################################\n",
    "        \n",
    "        self.rs = rs\n",
    "        self.states = []\n",
    "        self.nstates = 0\n",
    "        self.nparticles = Nparticles\n",
    "        self.nshells = N - 1\n",
    "        self.Nm = N + 1\n",
    "        \n",
    "        self.k_step = 2*(self.Nm + 1)\n",
    "        Nm = N\n",
    "        n = 0 #current shell\n",
    "        ene_integer = 0\n",
    "        while n <= self.nshells:\n",
    "            is_shell = False\n",
    "            for x in range(-Nm, Nm+1):\n",
    "                for y in range(-Nm, Nm+1):\n",
    "                    for z in range(-Nm,Nm+1):\n",
    "                        e = x*x + y*y + z*z\n",
    "                        if e   == ene_integer:\n",
    "                            is_shell = True\n",
    "                            self.nstates += 2\n",
    "                            self.states.append([e, x,y,z,1])\n",
    "                            self.states.append([e, x,y,z, -1])\n",
    "                            \n",
    "            if is_shell:\n",
    "                n += 1\n",
    "            ene_integer += 1\n",
    "        self.L3 = (4*pi*self.nparticles*self.rs**3)/3.0\n",
    "        self.L2 = self.L3**(2/3.0)\n",
    "        self.L = pow(self.L3, 1/3.0)\n",
    "        \n",
    "        for i in range(self.nstates):\n",
    "            self.states[i][0] *= 2*(pi**2)/self.L**2 #Multiplying in the missing factors in the single particle energy\n",
    "        self.states = array(self.states) #converting to array to utilize vectorized calculations    \n",
    "        \n",
    "    def hfenergy(self, nParticles):\n",
    "        #Calculate the HF-energy (reference energy) for nParticles particles\n",
    "        e0 = 0.0\n",
    "        if nParticles<=self.nstates:\n",
    "            for i in range(nParticles):\n",
    "                e0 += self.h(i,i)\n",
    "                for j in range(nParticles):\n",
    "                    if j != i:\n",
    "                        e0 += .5*self.v(i,j,i,j)\n",
    "        else:\n",
    "            #Safety for cases where nParticles exceeds size of basis\n",
    "            print \"Not enough basis states.\"\n",
    "            \n",
    "        return e0\n",
    "                \n",
    "    def h(self, p,q):\n",
    "        #Return single particle energy\n",
    "        return self.states[p,0]*(p==q)\n",
    "\n",
    "    \n",
    "    def v(self,p,q,r,s):\n",
    "        #Two body interaction for electron gas\n",
    "        val = 0\n",
    "        terms = 0.0\n",
    "        term1 = 0.0\n",
    "        term2 = 0.0\n",
    "        kdpl = self.kdplus(p,q,r,s)\n",
    "        if kdpl != 0:\n",
    "            val = 1.0/self.L3\n",
    "            if self.kdspin(p,r)*self.kdspin(q,s)==1:\n",
    "                if self.kdwave(p,r) != 1.0:\n",
    "                    term1 = self.L2/(pi*self.absdiff2(r,p))\n",
    "            if self.kdspin(p,s)*self.kdspin(q,r)==1:\n",
    "                if self.kdwave(p,s) != 1.0:\n",
    "                    term2 = self.L2/(pi*self.absdiff2(s,p))\n",
    "        return val*(term1-term2)\n",
    "\n",
    "    \n",
    "    #The following is a series of kroenecker deltas used in the two-body interactions. \n",
    "    #Just ignore these lines unless you suspect an error here\n",
    "    def kdi(self,a,b):\n",
    "        #Kroenecker delta integer\n",
    "        return 1.0*(a==b)\n",
    "    def kda(self,a,b):\n",
    "        #Kroenecker delta array\n",
    "        d = 1.0\n",
    "        #print a,b,\n",
    "        for i in range(len(a)):\n",
    "            d*=(a[i]==b[i])\n",
    "        return d\n",
    "    def kdfullplus(self,p,q,r,s):\n",
    "        #Kroenecker delta wavenumber p+q,r+s\n",
    "        return self.kda(self.states[p][1:5]+self.states[q][1:5],self.states[r][1:5]+self.states[s][1:5])\n",
    "    def kdplus(self,p,q,r,s):\n",
    "        #Kroenecker delta wavenumber p+q,r+s\n",
    "        return self.kda(self.states[p][1:4]+self.states[q][1:4],self.states[r][1:4]+self.states[s][1:4])\n",
    "    def kdspin(self,p,q):\n",
    "        #Kroenecker delta spin\n",
    "        return self.kdi(self.states[p][4], self.states[q][4])\n",
    "    def kdwave(self,p,q):\n",
    "        #Kroenecker delta wavenumber\n",
    "        return self.kda(self.states[p][1:4],self.states[q][1:4])\n",
    "    def absdiff2(self,p,q):\n",
    "        val = 0.0\n",
    "        for i in range(1,4):\n",
    "            val += (self.states[p][i]-self.states[q][i])*(self.states[p][i]-self.states[q][i])\n",
    "        return val\n",
    "\n",
    "        \n",
    "def MBPT2(bs):\n",
    "    #2. order MBPT Energy \n",
    "    Nh = bs.nparticles\n",
    "    Np = bs.nstates-bs.nparticles #Note the conflicting notation here. bs.nparticles is number of hole states \n",
    "    vhhpp = zeros((Nh**2, Np**2))\n",
    "    vpphh = zeros((Np**2, Nh**2))\n",
    "    #manual MBPT(2) energy (Should be -0.525588309385 for 66 states, shells = 5, in this code)\n",
    "    psum2 = 0\n",
    "    for i in range(Nh):\n",
    "        for j in range(Nh):\n",
    "            for a in range(Np):\n",
    "                for b in range(Np):\n",
    "                    #val1 = bs.v(i,j,a+Nh,b+Nh)\n",
    "                    #val2 = bs.v(a+Nh,b+Nh,i,j)\n",
    "                    #if val1!=val2:\n",
    "                    #    print val1, val2\n",
    "                    vhhpp[i + j*Nh, a+b*Np] = bs.v(i,j,a+Nh,b+Nh)\n",
    "                    vpphh[a+b*Np,i + j*Nh] = bs.v(a+Nh,b+Nh,i,j)/(bs.states[i,0] + bs.states[j,0] - bs.states[a + Nh, 0] - bs.states[b+Nh,0])\n",
    "    psum = .25*sum(dot(vhhpp,vpphh).diagonal())\n",
    "    return psum\n",
    "    \n",
    "def MBPT2_fast(bs):\n",
    "    #2. order MBPT Energy \n",
    "    Nh = bs.nparticles\n",
    "    Np = bs.nstates-bs.nparticles #Note the conflicting notation here. bs.nparticles is number of hole states \n",
    "    vhhpp = zeros((Nh**2, Np**2))\n",
    "    vpphh = zeros((Np**2, Nh**2))\n",
    "    #manual MBPT(2) energy (Should be -0.525588309385 for 66 states, shells = 5, in this code)\n",
    "    psum2 = 0\n",
    "    for i in range(Nh):\n",
    "        for j in range(i):\n",
    "            for a in range(Np):\n",
    "                for b in range(a):\n",
    "                    val = bs.v(i,j,a+Nh,b+Nh)\n",
    "                    eps = val/(bs.states[i,0] + bs.states[j,0] - bs.states[a + Nh, 0] - bs.states[b+Nh,0])\n",
    "                    vhhpp[i + j*Nh, a+b*Np] = val \n",
    "                    vhhpp[j + i*Nh, a+b*Np] = -val \n",
    "                    vhhpp[i + j*Nh, b+a*Np] = -val\n",
    "                    vhhpp[j + i*Nh, b+a*Np] = val \n",
    "        \n",
    "                    \n",
    "                    vpphh[a+b*Np,i + j*Nh] = eps\n",
    "                    vpphh[a+b*Np,j + i*Nh] = -eps\n",
    "                    vpphh[b+a*Np,i + j*Nh] = -eps\n",
    "                    vpphh[b+a*Np,j + i*Nh] = eps\n",
    "                    \n",
    "                    \n",
    "    psum = .25*sum(dot(vhhpp,vpphh).diagonal())\n",
    "    return psum\n",
    "\n",
    "\n",
    "#user input here\n",
    "number_of_shells = 5\n",
    "number_of_holes = 14 #(particles)\n",
    "\n",
    "\n",
    "#initialize basis    \n",
    "bs = electronbasis(number_of_shells,1.0,number_of_holes) #shells, r_s = 1.0, holes\n",
    "\n",
    "#Print some info to screen\n",
    "print \"Number of shells:\", number_of_shells\n",
    "print \"Number of states:\", bs.nstates\n",
    "print \"Number of holes :\", bs.nparticles\n",
    "print \"Reference Energy:\", bs.hfenergy(number_of_holes), \"hartrees \"\n",
    "print \"                :\", 2*bs.hfenergy(number_of_holes), \"rydbergs \"\n",
    "\n",
    "print \"Ref.E. per hole :\", bs.hfenergy(number_of_holes)/number_of_holes, \"hartrees \"\n",
    "print \"                :\", 2*bs.hfenergy(number_of_holes)/number_of_holes, \"rydbergs \"\n",
    "\n",
    "\n",
    "\n",
    "#calculate MBPT2 energy\n",
    "print \"MBPT2 energy    :\", MBPT2_fast(bs), \" hartrees\""
   ]
  },
  {
   "cell_type": "markdown",
   "metadata": {},
   "source": [
    "As we will see later, for the infinite electron gas, second-order perturbation theory diverges in the thermodynamical limit, a feature which can easily be noted if one lets the number of single-particle states above the Fermi level to increase. The resulting expression in a Cartesian basis will not converge.\n",
    "\n",
    "<!-- --- end solution of exercise --- -->\n",
    "\n",
    "<!-- --- end exercise --- -->"
   ]
  }
 ],
 "metadata": {
  "kernelspec": {
   "display_name": "Python 3",
   "language": "python",
   "name": "python3"
  },
  "language_info": {
   "codemirror_mode": {
    "name": "ipython",
    "version": 3
   },
   "file_extension": ".py",
   "mimetype": "text/x-python",
   "name": "python",
   "nbconvert_exporter": "python",
   "pygments_lexer": "ipython3",
   "version": "3.6.3"
  }
 },
 "nbformat": 4,
 "nbformat_minor": 2
}
